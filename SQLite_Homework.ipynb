{
 "cells": [
  {
   "cell_type": "markdown",
   "id": "a3c99754",
   "metadata": {},
   "source": [
    "# SQLite Homework\n",
    "\n",
    "For this week's graded assignment, you will be using the Chinook database. The Chinook database represents a hypothetical music store and you have been brought on as a consultant to help the company gain a better understanding of their store, customers, and employees.\n",
    "\n",
    "To complete these exercises, you may find it helpful to refer to the Chinook database schema. The arrows indicate the columns that link the tables together.\n",
    "\n",
    "<img src=\"Images/chinook_schema.jpg\" alt=\"Chinook schmema\" width=\"600\" />"
   ]
  },
  {
   "cell_type": "code",
   "execution_count": null,
   "id": "d7ff1461",
   "metadata": {},
   "outputs": [],
   "source": [
    "import sqlite3\n",
    "import pandas as pd"
   ]
  },
  {
   "cell_type": "markdown",
   "id": "e7b17cc6",
   "metadata": {},
   "source": [
    "For this assignment, you will need to use the `chinook.db` database that is stored in the `Data/` folder."
   ]
  },
  {
   "cell_type": "code",
   "execution_count": null,
   "id": "088fe4fa",
   "metadata": {},
   "outputs": [],
   "source": [
    "# Connect to the Chinook database\n",
    "conn ="
   ]
  },
  {
   "cell_type": "code",
   "execution_count": null,
   "id": "0ed86b98",
   "metadata": {},
   "outputs": [],
   "source": [
    "# Create a cursor object\n",
    "cursor ="
   ]
  },
  {
   "cell_type": "markdown",
   "id": "c71a76e7",
   "metadata": {},
   "source": [
    "# Explore the Database\n",
    "\n",
    "To learn more about the company, you should first begin by taking a look at some of the types of data they are storing in their database. Run the cell to print out a list of the database tables and then follow the instructions below."
   ]
  },
  {
   "cell_type": "code",
   "execution_count": null,
   "id": "278f0afc",
   "metadata": {},
   "outputs": [],
   "source": [
    "# Query the table names\n",
    "cursor.execute(\"\"\"\n",
    "        SELECT name\n",
    "        FROM sqlite_master\n",
    "        WHERE type = 'table'\n",
    "        ORDER BY name;\n",
    "\"\"\").fetchall()"
   ]
  },
  {
   "cell_type": "markdown",
   "id": "3a75e9ab",
   "metadata": {},
   "source": [
    "# Albums\n",
    "\n",
    "You decide to first take a closer look at the data in the `albums` table. To run this query, you should chain together the `cursor` object's `execute()` and `fetchall()` methods and select all of the columns in the table."
   ]
  },
  {
   "cell_type": "code",
   "execution_count": null,
   "id": "49d53496",
   "metadata": {},
   "outputs": [],
   "source": [
    "# Query the `albums` table\n"
   ]
  },
  {
   "cell_type": "markdown",
   "id": "df5bb642",
   "metadata": {},
   "source": [
    "That's a lot of albums! Use the `COUNT` function to find the total number of rows in the `albums` table."
   ]
  },
  {
   "cell_type": "code",
   "execution_count": null,
   "id": "48dca471",
   "metadata": {},
   "outputs": [],
   "source": [
    "# Count the number of rows in the `albums` table\n"
   ]
  },
  {
   "cell_type": "markdown",
   "id": "b2c9f189",
   "metadata": {},
   "source": [
    "Now that you know how many rows are in the `albums` table, you decide to query the table again, but this time adding a `LIMIT` clause to only return the first five rows."
   ]
  },
  {
   "cell_type": "code",
   "execution_count": null,
   "id": "08d07265",
   "metadata": {},
   "outputs": [],
   "source": [
    "# Query the first 5 rows of the `albums` table\n"
   ]
  },
  {
   "cell_type": "markdown",
   "id": "da3acb5c",
   "metadata": {},
   "source": [
    "# Tracks\n",
    "\n",
    "Next, you decide to take a look at the type of data stored in the `tracks` table. Similar to your last query, you decide to select all of the table columns. However, instead of adding a `LIMIT` clause to control the number of rows returned, instead you decide to use pandas `read_sql()` method to store the results in a pandas DataFrame."
   ]
  },
  {
   "cell_type": "code",
   "execution_count": null,
   "id": "f9fda8b3",
   "metadata": {},
   "outputs": [],
   "source": [
    "# Query all of the columns in the `tracks` table\n",
    "df = \n",
    "\n",
    "# Print the first 5 rows\n",
    "df.head()"
   ]
  },
  {
   "cell_type": "markdown",
   "id": "465073b1",
   "metadata": {},
   "source": [
    "## Missing Data\n",
    "\n",
    "You notice that the second row in the `tracks` table is missing a `composer` value, so you'd like to know if there are other rows missing this information. To answer your question, follow these steps:\n",
    "- `SELECT` the `name` and `composer` columns `FROM` the `tracks` table\n",
    "- Add a `WHERE` clause with the `IS NULL` operator to return rows missing a `composer` value\n",
    "- Use `ORDER BY` to sort your results by the `name` field\n",
    "\n",
    "*Please note: To receive credit for this assignment, you must write the query using SQL and cannot use the pandas DataFrame you created in the previous exercise. Also, for the rest of the exercise you may use either sqlite3 or pandas to execute your queries.*"
   ]
  },
  {
   "cell_type": "code",
   "execution_count": null,
   "id": "810508e6",
   "metadata": {},
   "outputs": [],
   "source": [
    "# Query the missing data\n"
   ]
  },
  {
   "cell_type": "markdown",
   "id": "e8a1c7bc",
   "metadata": {},
   "source": [
    "## Number of Songs\n",
    "\n",
    "In the `tracks` table, you notice there is an `albumid` field that you can use to find out the number of tracks on each album.\n",
    "- In the `SELECT` statement, include the `albumid` column and apply the `COUNT` function to the `trackid` column. You should also alias the result of the `COUNT` function as `'No_Songs'`\n",
    "- Use a `GROUP BY` clause to group the songs (rows) in the `tracks` table by `albumid`"
   ]
  },
  {
   "cell_type": "code",
   "execution_count": null,
   "id": "72d61b80",
   "metadata": {},
   "outputs": [],
   "source": [
    "# Count the number of songs per album\n"
   ]
  },
  {
   "cell_type": "markdown",
   "id": "51df0593",
   "metadata": {},
   "source": [
    "You're surprised to see that there are a lot of albums that only have one song, so you are curious to see what the highest number of songs is. To do this, you repeat your previous search, but this time adding an `ORDER BY` clause that uses the `No_Songs` alias to sort the results in descending order. In addition, you decide to limit your results to just the top five rows."
   ]
  },
  {
   "cell_type": "code",
   "execution_count": null,
   "id": "89b1ac79",
   "metadata": {
    "scrolled": false
   },
   "outputs": [],
   "source": [
    "# Find the albums with the highest number of songs\n"
   ]
  },
  {
   "cell_type": "markdown",
   "id": "8c25518a",
   "metadata": {},
   "source": [
    "# Album Titles\n",
    "\n",
    "You liked being able to see how many songs (rows) were on each record. However, you don't want to have to use the `albumid` value to look up the name of each album. Therefore, you decide to use an `INNER JOIN` to combine rows from the `tracks` and the `albums` table. \n",
    "\n",
    "```\n",
    "SELECT column_name(s)\n",
    "FROM tableA\n",
    "  INNER JOIN tableB \n",
    "          ON tableA.column = tableB.column;\n",
    "```\n",
    "\n",
    "- `SELECT` the `title` and `COUNT(trackid)` aliased as `No_Songs`. Also `SELECT` the `albumid` field from the `tracks` table (using dot notation).\n",
    "- `FROM` the `tracks` table, use an `INNER JOIN` to join the `albums` and `tracks` tables. (*Hint: look at the schema above to see which column to join them on.) \n",
    "- `GROUP BY` the `albumid` field from the `tracks` table (use dot notation)\n",
    "- Use `ORDER BY` to sort the results by the `No_Songs` alias in descending order\n",
    "- Limit your results to just the first five rows"
   ]
  },
  {
   "cell_type": "code",
   "execution_count": null,
   "id": "747bc7e0",
   "metadata": {
    "scrolled": true
   },
   "outputs": [],
   "source": [
    "# INNER JOIN the `tracks` and `albums` tables\n",
    "df = \n",
    "\n",
    "# Print your results\n",
    "df"
   ]
  },
  {
   "cell_type": "markdown",
   "id": "cfb3a3d3",
   "metadata": {},
   "source": [
    "# Customers\n",
    "\n",
    "Now you decide to move on and learn more about the company's finances. You know the company has customers all across the world so you decide to query a list of the countries where they live in. \n",
    "\n",
    "The `invoices` table contains information about the countries the store's customers live in. Start your query by using `SELECT DISTINCT` to find the unique values in the `billingcountries` column. Then use `ORDER BY` to sort your results alphabetically by `billingcountry`."
   ]
  },
  {
   "cell_type": "code",
   "execution_count": null,
   "id": "5aac5507",
   "metadata": {},
   "outputs": [],
   "source": [
    "# Query a list of where the customers live\n"
   ]
  },
  {
   "cell_type": "markdown",
   "id": "d6a14d17",
   "metadata": {},
   "source": [
    "## International Customers\n",
    "\n",
    "One of the ideas you're thinking of pitching to the company is an email marketing campaign to customers living outside of the United States. To query your email list:\n",
    "- `SELECT` the `firstname`, `lastname`, `country`, and `email` fields from the `customers` table.\n",
    "- Use a `WHERE` clause to exclude customers living in the United States\n",
    "- Use `ORDER BY` to sort your results by the `country` column in ascending order"
   ]
  },
  {
   "cell_type": "code",
   "execution_count": null,
   "id": "abc18995",
   "metadata": {},
   "outputs": [],
   "source": [
    "# Query email addresses for customers outside the USA\n"
   ]
  },
  {
   "cell_type": "markdown",
   "id": "0cdcad13",
   "metadata": {},
   "source": [
    "## Customers Per Country\n",
    "\n",
    "Hmm, that's a lot of different countries to try to target. Instead, you decide to find out which of those countries have the largest number of customers using the database's `invoices` table."
   ]
  },
  {
   "cell_type": "code",
   "execution_count": null,
   "id": "536f033f",
   "metadata": {},
   "outputs": [],
   "source": [
    "# Find the countries with the largest number of customers\n"
   ]
  },
  {
   "cell_type": "markdown",
   "id": "5b728503",
   "metadata": {},
   "source": [
    "## Total Sales\n",
    "\n",
    "The number of customers is important but you are starting to think that finding out which countries have the highest total sales might be a better strategy. *Hint: instead of COUNT, you will need to use a different aggregate function*"
   ]
  },
  {
   "cell_type": "code",
   "execution_count": null,
   "id": "1973e18a",
   "metadata": {},
   "outputs": [],
   "source": [
    "# Find the countries with the highest sales\n"
   ]
  },
  {
   "cell_type": "markdown",
   "id": "4f289264",
   "metadata": {},
   "source": [
    "## Email Provider\n",
    "\n",
    "Finally, you noticed a few customers still had an `aol.com` email address, so you are not sure how up-to-date the email addresses are in the company's database. For this final exercise, query the `customers` table to find only those customers with a `gmail.com` address."
   ]
  },
  {
   "cell_type": "code",
   "execution_count": null,
   "id": "bfec3d1b",
   "metadata": {},
   "outputs": [],
   "source": [
    "# Query for only Gmail addresses\n"
   ]
  },
  {
   "cell_type": "markdown",
   "id": "ba8d18be",
   "metadata": {},
   "source": [
    "Even though you didn't modify any of the company's data, it is always good practice to commit and close your database connection every time!"
   ]
  },
  {
   "cell_type": "code",
   "execution_count": null,
   "id": "1e891c6b",
   "metadata": {},
   "outputs": [],
   "source": [
    "# Commit any changes\n",
    "conn.commit()"
   ]
  },
  {
   "cell_type": "code",
   "execution_count": null,
   "id": "8e5a2c25",
   "metadata": {},
   "outputs": [],
   "source": [
    "# Close the database connection\n",
    "conn.close()"
   ]
  },
  {
   "cell_type": "markdown",
   "id": "5615476d",
   "metadata": {},
   "source": [
    "Before submitting this assignment on Canvas, please be sure to run `Kernel` &mdash; `Restart & Run All`!"
   ]
  }
 ],
 "metadata": {
  "kernelspec": {
   "display_name": "Python 3 (ipykernel)",
   "language": "python",
   "name": "python3"
  },
  "language_info": {
   "codemirror_mode": {
    "name": "ipython",
    "version": 3
   },
   "file_extension": ".py",
   "mimetype": "text/x-python",
   "name": "python",
   "nbconvert_exporter": "python",
   "pygments_lexer": "ipython3",
   "version": "3.9.13"
  },
  "toc": {
   "base_numbering": 1,
   "nav_menu": {},
   "number_sections": true,
   "sideBar": true,
   "skip_h1_title": false,
   "title_cell": "Table of Contents",
   "title_sidebar": "Contents",
   "toc_cell": false,
   "toc_position": {
    "height": "calc(100% - 180px)",
    "left": "10px",
    "top": "150px",
    "width": "165px"
   },
   "toc_section_display": true,
   "toc_window_display": true
  }
 },
 "nbformat": 4,
 "nbformat_minor": 5
}
