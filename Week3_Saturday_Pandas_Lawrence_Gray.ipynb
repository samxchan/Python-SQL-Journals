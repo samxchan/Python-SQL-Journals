{
 "cells": [
  {
   "cell_type": "markdown",
   "metadata": {
    "id": "Bb44YJeYRyOc"
   },
   "source": [
    "<img src=\"pandas_white.svg\" alt=\"pandas\" width=\"500\"/>"
   ]
  },
  {
   "cell_type": "markdown",
   "metadata": {
    "id": "HC0il7CfRyOf"
   },
   "source": [
    "# DataFrame subsetting\n",
    "This is the process of grabbing data from your DataFrame, extracting either by columns or rows."
   ]
  },
  {
   "cell_type": "markdown",
   "metadata": {
    "id": "aL27eT_5RyOg"
   },
   "source": [
    "## Selecting columns\n",
    "To select columns in a DataFrame, use square-brackets the with name of column within them `df['column_name']`.  "
   ]
  },
  {
   "cell_type": "code",
   "execution_count": null,
   "metadata": {
    "id": "ZUPWuKQIRyOh"
   },
   "outputs": [],
   "source": [
    "import pandas as pd\n",
    "import random\n",
    "import numpy as np"
   ]
  },
  {
   "cell_type": "code",
   "execution_count": null,
   "metadata": {
    "id": "5kxvOCdpRyOi"
   },
   "outputs": [],
   "source": [
    "df = pd.read_csv('name_apples_bookid.csv')\n",
    "df"
   ]
  },
  {
   "cell_type": "markdown",
   "metadata": {
    "id": "G9mSYK9cRyOi"
   },
   "source": [
    "### Select a single column\n",
    "Question:  What dtype is the data within the name column? object, float, int, category????"
   ]
  },
  {
   "cell_type": "code",
   "execution_count": null,
   "metadata": {
    "id": "7H1ro5CcRyOj"
   },
   "outputs": [],
   "source": [
    "df['name']"
   ]
  },
  {
   "cell_type": "code",
   "execution_count": null,
   "metadata": {
    "id": "4zAMYUEORyOj"
   },
   "outputs": [],
   "source": [
    "df.name"
   ]
  },
  {
   "cell_type": "markdown",
   "metadata": {
    "id": "9zJEKGGbRyOk"
   },
   "source": [
    "Question: What is the data type is the name column?"
   ]
  },
  {
   "cell_type": "code",
   "execution_count": null,
   "metadata": {
    "id": "jjiXIaodRyOl"
   },
   "outputs": [],
   "source": [
    "type(df['name'])"
   ]
  },
  {
   "cell_type": "markdown",
   "metadata": {
    "id": "Jx_awQGCRyOl"
   },
   "source": [
    "### Selecting multiple columns"
   ]
  },
  {
   "cell_type": "code",
   "execution_count": null,
   "metadata": {
    "id": "VFq7U_PHRyOm"
   },
   "outputs": [],
   "source": [
    "df[['name', 'apples']]"
   ]
  },
  {
   "cell_type": "markdown",
   "metadata": {
    "id": "23dPqdDZRyOm"
   },
   "source": [
    "## Filtering rows\n",
    "We can subset our DataFrame by filter rows based on certain conditions.  We evaluate conditional expressions and rows that meet those conditions will be returned.  The conditional expression returns a series of boolean values.  If the boolean values are placed within square brackets of a DataFrame then only the True values will be returned."
   ]
  },
  {
   "cell_type": "markdown",
   "metadata": {
    "id": "SOBlze7DRyOm"
   },
   "source": [
    "### Filtering with a single conditional expression"
   ]
  },
  {
   "cell_type": "code",
   "execution_count": null,
   "metadata": {
    "id": "vSQPyWANRyOn"
   },
   "outputs": [],
   "source": [
    "# Conditional expression that returns True/False\n",
    "# for every value in apple column that is greater than\n",
    "# or equal to 16\n",
    "(df['apples'] >= 16)"
   ]
  },
  {
   "cell_type": "code",
   "execution_count": null,
   "metadata": {
    "id": "ygCPq98oRyOn"
   },
   "outputs": [],
   "source": [
    "df.apples >= 16"
   ]
  },
  {
   "cell_type": "code",
   "execution_count": null,
   "metadata": {
    "id": "8xsJEbtnRyOn"
   },
   "outputs": [],
   "source": [
    "# If we place the conditional expression\n",
    "# within a DataFrame square bracket then it will return\n",
    "# all rows in which the conditional expression is True\n",
    "df[(df['apples'] >= 16)]\n",
    "df[(df.apples >= 16)]"
   ]
  },
  {
   "cell_type": "markdown",
   "metadata": {
    "id": "EO-PQSW6RyOo"
   },
   "source": [
    "### Filtering with multiple conditional expressions\n",
    "When filtering with multiple conditions, the conditional expressions must be encapsulated in parentheses.  Additional, the conditions must be joined by either an ampersand `&` which represents \"and\" or a pipe `|` which represents \"or\""
   ]
  },
  {
   "cell_type": "code",
   "execution_count": null,
   "metadata": {
    "id": "0doxc3Y0RyOo"
   },
   "outputs": [],
   "source": [
    "df[(df['apples'] >=16) & (df['name'] == 'Molly')]"
   ]
  },
  {
   "cell_type": "code",
   "execution_count": null,
   "metadata": {
    "id": "qQYYBfJARyOo"
   },
   "outputs": [],
   "source": [
    "df[(df['apples'] >=16) | (df['name'] == 'Larry')]"
   ]
  },
  {
   "cell_type": "code",
   "execution_count": null,
   "metadata": {
    "id": "scYetXr3RyOo"
   },
   "outputs": [],
   "source": [
    "older = (df['apples'] >=16)\n",
    "older_books = df[older]['book_id']\n",
    "older_books"
   ]
  },
  {
   "cell_type": "markdown",
   "metadata": {
    "id": "tqCq1YOGRyOp"
   },
   "source": [
    "## Select rows by position - df.iloc and df.loc\n",
    "Rows can also be extracted by index based or label based selection.\n",
    "DataFrames have two methods for this purpose.  The first is `iloc` in which the \"i\" states for integer.  `iloc` uses the index number of each row or column to extract them.  While `loc` uses the row or column label to extract them"
   ]
  },
  {
   "cell_type": "code",
   "execution_count": null,
   "metadata": {
    "id": "IKgDH6DORyOp"
   },
   "outputs": [],
   "source": [
    "# Change the index of of DataFrame to strings so that we can \n",
    "# more easily demonstrate label based indexing\n",
    "df.index = ['teacher', 'author', 'student', 'TA']"
   ]
  },
  {
   "cell_type": "markdown",
   "metadata": {
    "id": "9z-tnz_4RyOp"
   },
   "source": [
    "### iloc on a single row"
   ]
  },
  {
   "cell_type": "code",
   "execution_count": null,
   "metadata": {
    "id": "6GlmwxxURyOp"
   },
   "outputs": [],
   "source": [
    "df.iloc[0]"
   ]
  },
  {
   "cell_type": "markdown",
   "metadata": {
    "id": "QY7rZqp_RyOq"
   },
   "source": [
    "### use row and column with iloc\n",
    "To accomplish this, the first value represents the row index and the second value represents the column index."
   ]
  },
  {
   "cell_type": "code",
   "execution_count": null,
   "metadata": {
    "id": "FHROfp-tRyOq"
   },
   "outputs": [],
   "source": [
    "# select index 0 and column 0\n",
    "df.iloc[0,0]"
   ]
  },
  {
   "cell_type": "markdown",
   "metadata": {
    "id": "aGnmD_fXRyOq"
   },
   "source": [
    "### iloc a range of rows"
   ]
  },
  {
   "cell_type": "code",
   "execution_count": null,
   "metadata": {
    "id": "bTkgFkB4RyOq"
   },
   "outputs": [],
   "source": [
    "df.iloc[0:2]"
   ]
  },
  {
   "cell_type": "markdown",
   "metadata": {
    "id": "boS3Pj42RyOq"
   },
   "source": [
    "### iloc a range of rows and columns"
   ]
  },
  {
   "cell_type": "code",
   "execution_count": null,
   "metadata": {
    "id": "-DK6ms_vRyOq"
   },
   "outputs": [],
   "source": [
    "df.iloc[0:2, 0:2]"
   ]
  },
  {
   "cell_type": "markdown",
   "metadata": {
    "id": "uKd3vklbRyOq"
   },
   "source": [
    "### loc on a single row"
   ]
  },
  {
   "cell_type": "code",
   "execution_count": null,
   "metadata": {
    "id": "qSX3mQzeRyOq"
   },
   "outputs": [],
   "source": [
    "df.loc['teacher']"
   ]
  },
  {
   "cell_type": "markdown",
   "metadata": {
    "id": "zjrsC_veRyOr"
   },
   "source": [
    "### Use row label and column label with loc"
   ]
  },
  {
   "cell_type": "code",
   "execution_count": null,
   "metadata": {
    "id": "ORItzSxjRyOr"
   },
   "outputs": [],
   "source": [
    "df.loc['student', 'name']"
   ]
  },
  {
   "cell_type": "markdown",
   "metadata": {
    "id": "uRxZulLKRyOr"
   },
   "source": [
    "### Extract a range of rows with loc"
   ]
  },
  {
   "cell_type": "code",
   "execution_count": null,
   "metadata": {
    "id": "Hiq4PaFIRyOr"
   },
   "outputs": [],
   "source": [
    "df.loc['teacher':'TA']"
   ]
  },
  {
   "cell_type": "markdown",
   "metadata": {
    "id": "xRLPTJZGRyOr"
   },
   "source": [
    "### Extract a range of rows and columns with loc"
   ]
  },
  {
   "cell_type": "code",
   "execution_count": null,
   "metadata": {
    "id": "nmyvcRKhRyOr"
   },
   "outputs": [],
   "source": [
    "df.loc['teacher':'TA', 'apples':'book_id']"
   ]
  },
  {
   "cell_type": "markdown",
   "metadata": {
    "id": "FzDmwJCSRyOr"
   },
   "source": [
    "## Add and remove rows and columns\n",
    "In order to permanently remove a column or row from a DataFrame you will need assign the transformed DataFrame to another variable or use the `inplace=True` parameter."
   ]
  },
  {
   "cell_type": "markdown",
   "metadata": {
    "id": "whksUMZnRyOr"
   },
   "source": [
    "### Add a column"
   ]
  },
  {
   "cell_type": "code",
   "execution_count": null,
   "metadata": {
    "id": "9Q0J64UsRyOr"
   },
   "outputs": [],
   "source": [
    "df['money'] = [45000, 30000, 15000, np.nan]"
   ]
  },
  {
   "cell_type": "markdown",
   "metadata": {
    "id": "xFGsLpyyRyOr"
   },
   "source": [
    "### Add a row"
   ]
  },
  {
   "cell_type": "code",
   "execution_count": null,
   "metadata": {
    "id": "v9g6b456RyOr"
   },
   "outputs": [],
   "source": [
    "df.loc['Dean'] = ['Betty', 18, 101, 90000]\n",
    "df = df.append({'name':'Charles', 'apples':19,\n",
    "           'book_id':101, 'money': 120000}, ignore_index=True)"
   ]
  },
  {
   "cell_type": "markdown",
   "metadata": {
    "id": "lkVScatjRyOr"
   },
   "source": [
    "### Add an additional column for years of experience"
   ]
  },
  {
   "cell_type": "code",
   "execution_count": null,
   "metadata": {
    "id": "jHqNwOz8RyOs"
   },
   "outputs": [],
   "source": [
    "experience = []\n",
    "for _ in range(0, df.shape[0]): # Read about range here: https://docs.python.org/3/library/functions.html#func-range  \n",
    "    years = random.randint(1,15) # Read about randint here: https://docs.python.org/3/library/random.html#random.randint\n",
    "    experience.append(years)\n",
    "    \n",
    "df['experience'] = experience"
   ]
  },
  {
   "cell_type": "code",
   "execution_count": null,
   "metadata": {
    "id": "V-E43cFPRyOs"
   },
   "outputs": [],
   "source": [
    "df.to_csv('salary.csv', index=False)"
   ]
  },
  {
   "cell_type": "markdown",
   "metadata": {
    "id": "SdymHKXCRyOs"
   },
   "source": [
    "### Remove a row"
   ]
  },
  {
   "cell_type": "code",
   "execution_count": null,
   "metadata": {
    "id": "zdjKwR62RyOs"
   },
   "outputs": [],
   "source": [
    "df_no_matt = df.drop(1, axis=0) # inplace=True\n",
    "df_no_matt"
   ]
  },
  {
   "cell_type": "markdown",
   "metadata": {
    "id": "gsXgclA8RyOs"
   },
   "source": [
    "### Remove a column"
   ]
  },
  {
   "cell_type": "code",
   "execution_count": null,
   "metadata": {
    "id": "HY8wVA5vRyOs"
   },
   "outputs": [],
   "source": [
    "df_no_apples = df.drop('apples', axis=1) # inplace=True\n",
    "df_no_apples"
   ]
  },
  {
   "cell_type": "markdown",
   "metadata": {
    "id": "jT1wUG8XRyOs"
   },
   "source": [
    "# DataFrame Attributes\n",
    "Like methods, attributes are specific to a data type.  The attributes are accessed with the dot notation you use for methods but no parentheses are used.  Attribute simply return information stored by the object.  We will discuss just five of the many attributes of a DataFrame.  We discussed 2 previously, `shape` and `dtype(s)` The others are:\n",
    "* columns\n",
    "* index\n",
    "* values"
   ]
  },
  {
   "cell_type": "markdown",
   "metadata": {
    "id": "sf-liM-aRyOs"
   },
   "source": [
    "## viewing and setting columns\n",
    "In bigger datasets it is hard to visualize all the columns within a DataFrame.  You can access the column name with the column attribute of the DataFrame. "
   ]
  },
  {
   "cell_type": "markdown",
   "metadata": {
    "id": "x6jIBTqiRyOs"
   },
   "source": [
    "### View columns"
   ]
  },
  {
   "cell_type": "code",
   "execution_count": null,
   "metadata": {
    "id": "AY_pbuTARyOt"
   },
   "outputs": [],
   "source": [
    "df.columns"
   ]
  },
  {
   "cell_type": "markdown",
   "metadata": {
    "id": "d02LclsqRyOt"
   },
   "source": [
    "### set columns"
   ]
  },
  {
   "cell_type": "code",
   "execution_count": null,
   "metadata": {
    "id": "G9mE1lE2RyOt"
   },
   "outputs": [],
   "source": [
    "df.columns = [1,2,3,4,5]"
   ]
  },
  {
   "cell_type": "markdown",
   "metadata": {
    "id": "4zUJJ8vURyOt"
   },
   "source": [
    "## viewing and setting columns"
   ]
  },
  {
   "cell_type": "markdown",
   "metadata": {
    "id": "mXfZalGFRyOt"
   },
   "source": [
    "### View index"
   ]
  },
  {
   "cell_type": "code",
   "execution_count": null,
   "metadata": {
    "id": "-DsGv_dBRyOt"
   },
   "outputs": [],
   "source": [
    "df.index"
   ]
  },
  {
   "cell_type": "markdown",
   "metadata": {
    "id": "d7Zyq9iPRyOt"
   },
   "source": [
    "### Set index"
   ]
  },
  {
   "cell_type": "code",
   "execution_count": null,
   "metadata": {
    "id": "EFg71SNhRyOt"
   },
   "outputs": [],
   "source": [
    "df.index = [1,3,5,7,9,10]"
   ]
  },
  {
   "cell_type": "code",
   "execution_count": null,
   "metadata": {
    "id": "xWbmiu8XRyOt"
   },
   "outputs": [],
   "source": [
    "df"
   ]
  },
  {
   "cell_type": "code",
   "execution_count": null,
   "metadata": {
    "id": "iLd-E_NURyOt"
   },
   "outputs": [],
   "source": [
    "df.set_index(1)"
   ]
  },
  {
   "cell_type": "markdown",
   "metadata": {
    "id": "LkljxbDyRyOt"
   },
   "source": [
    "### Display DataFrame and Series values"
   ]
  },
  {
   "cell_type": "markdown",
   "metadata": {
    "id": "4IFX50sMRyOt"
   },
   "source": [
    "#### DataFrame"
   ]
  },
  {
   "cell_type": "code",
   "execution_count": null,
   "metadata": {
    "id": "etJyPdMfRyOu"
   },
   "outputs": [],
   "source": [
    "df.values"
   ]
  },
  {
   "cell_type": "markdown",
   "metadata": {
    "id": "lVvA2xfaRyOu"
   },
   "source": [
    "#### Series"
   ]
  },
  {
   "cell_type": "code",
   "execution_count": null,
   "metadata": {
    "id": "kPwSV2mBRyOu"
   },
   "outputs": [],
   "source": [
    "df[1].values"
   ]
  },
  {
   "cell_type": "markdown",
   "metadata": {
    "id": "MUa0EaejRyOu"
   },
   "source": [
    "# Pair Programming\n",
    "The above code, created a csv file named \"salary.csv\".  It represents the yearly salary for different positions at Virtual University, books (by id) they have read, and the number of years of experience they have.\n",
    "\n",
    "1. Import the salary data into a pandas DataFrame\n",
    "2. There is one book that has been read by several people.  Extract all rows with that book.\n",
    "3. Add a new row and column to the DataFrame( Just make up any data that you like)\n",
    "4. Filter the data set for people with less than 5 years experience but make more than \\\\$30,000 (None is a valid answer)\n",
    "5. Change index to 1,3,5,7,9,10,12 and filter and return the row with index 9"
   ]
  },
  {
   "cell_type": "markdown",
   "metadata": {
    "id": "xWWjfX9fRyOu"
   },
   "source": [
    "# DataFrame methods\n",
    "Similarily to other data types DataFrames have methods attached to them also.  These methods can modify or describe the entire content of the DataFrame\n",
    "* sample() - return a random sample of data\n",
    "* nunique() - return the number of unique elements in each column\n",
    "* isna() - determine if value within the DataFrame is `nan`\n",
    "* dropna() - Remove row or column that contains `nan` value\n",
    "* duplicated() - returns boolean series with True if value is duplicated\n",
    "* drop_duplicates() - remove rows with duplicate values\n",
    "* apply() - apply a function to values within the DataFrame"
   ]
  },
  {
   "cell_type": "code",
   "execution_count": null,
   "metadata": {
    "id": "bk2et6mpRyOu"
   },
   "outputs": [],
   "source": [
    "## sample()\n",
    "df.sample(3)"
   ]
  },
  {
   "cell_type": "code",
   "execution_count": null,
   "metadata": {
    "id": "LQpNoGFfRyOu"
   },
   "outputs": [],
   "source": [
    "# To determine the number of unique values in each column\n",
    "df.nunique()"
   ]
  },
  {
   "cell_type": "code",
   "execution_count": null,
   "metadata": {
    "id": "lN5delX-RyOu"
   },
   "outputs": [],
   "source": [
    "# Determine which values are not a number(nan)\n",
    "df.isna()"
   ]
  },
  {
   "cell_type": "code",
   "execution_count": null,
   "metadata": {
    "id": "eudG21scRyOu"
   },
   "outputs": [],
   "source": [
    "# remove row or column with `nan` value\n",
    "df.dropna(axis='index')"
   ]
  },
  {
   "cell_type": "code",
   "execution_count": null,
   "metadata": {
    "id": "nlzz2jAlRyOu"
   },
   "outputs": [],
   "source": [
    "df.duplicated(3)"
   ]
  },
  {
   "cell_type": "code",
   "execution_count": null,
   "metadata": {
    "id": "mg79azJIRyOu"
   },
   "outputs": [],
   "source": [
    "# remove duplicate rows\n",
    "df.drop_duplicates(3, keep='first')"
   ]
  },
  {
   "cell_type": "code",
   "execution_count": null,
   "metadata": {
    "id": "JMx4UCnBRyOu"
   },
   "outputs": [],
   "source": [
    "# Use apply() to apply a function to all the values within a DataFrame\n",
    "numbers = pd.DataFrame({'A': [1,2,3], 'B': [10,20,30] })\n",
    "\n",
    "def plus_10(x):\n",
    "    return x+10"
   ]
  },
  {
   "cell_type": "code",
   "execution_count": null,
   "metadata": {
    "id": "0hoVich9RyOu"
   },
   "outputs": [],
   "source": [
    "numbers"
   ]
  },
  {
   "cell_type": "code",
   "execution_count": null,
   "metadata": {
    "id": "xALlgtfbRyOu"
   },
   "outputs": [],
   "source": [
    "numbers.apply(plus_10)"
   ]
  },
  {
   "cell_type": "markdown",
   "metadata": {
    "id": "C7V0sf8cRyOu"
   },
   "source": [
    "# Summarize DataFrame\n",
    "Examine the descriptive stats with the `describe` method.  \n",
    "It provides column count, mean, min, max, and stand deviation.  \n",
    "It also include the 25,50, and 75 percentiles."
   ]
  },
  {
   "cell_type": "code",
   "execution_count": null,
   "metadata": {
    "id": "bFXvUf2URyOv"
   },
   "outputs": [],
   "source": [
    "df"
   ]
  },
  {
   "cell_type": "code",
   "execution_count": null,
   "metadata": {
    "id": "SOy9ZsgXRyOv"
   },
   "outputs": [],
   "source": [
    "df.describe()"
   ]
  },
  {
   "cell_type": "markdown",
   "metadata": {
    "id": "RtMj4yz7RyOv"
   },
   "source": [
    "# DataFrame manipulation\n",
    "There are DataFrame methods that allow you to manipulate its structure.\n",
    "* df.sort_index() - sort the index or columns in alphabetical/numerical order\n",
    "* df.reset_index() - change the index back to a Zero beginning then add previous index to be a new column\n",
    "* df.sort_values() - short all data based on a specific column\n",
    "* df.rename()"
   ]
  },
  {
   "cell_type": "code",
   "execution_count": null,
   "metadata": {
    "id": "CnC3yc7NRyOv"
   },
   "outputs": [],
   "source": [
    "df.columns = ['name', 'apples', 'book_id', 'money', 'experience']"
   ]
  },
  {
   "cell_type": "code",
   "execution_count": null,
   "metadata": {
    "id": "Bt5a8OpQRyOv"
   },
   "outputs": [],
   "source": [
    "df = df.set_index('name')"
   ]
  },
  {
   "cell_type": "code",
   "execution_count": null,
   "metadata": {
    "id": "aR80mro3RyOv"
   },
   "outputs": [],
   "source": [
    "df"
   ]
  },
  {
   "cell_type": "markdown",
   "metadata": {
    "id": "RTNCWMcoRyOv"
   },
   "source": [
    "## df.sort_index()\n",
    "Sort labels across axis 0 or axis 1"
   ]
  },
  {
   "cell_type": "code",
   "execution_count": null,
   "metadata": {
    "id": "mhUXGP65RyOv"
   },
   "outputs": [],
   "source": [
    "df.sort_index(axis=0)"
   ]
  },
  {
   "cell_type": "code",
   "execution_count": null,
   "metadata": {
    "id": "NFsDm-SGRyOv"
   },
   "outputs": [],
   "source": [
    "df.sort_index(axis=1)"
   ]
  },
  {
   "cell_type": "markdown",
   "metadata": {
    "id": "JASy7CrqRyOv"
   },
   "source": [
    "## df.reset_index()\n",
    "Reset the indexing so that the first row is index 0.  It also places the current index as a column unless you specify a parameter of `drop = True`"
   ]
  },
  {
   "cell_type": "code",
   "execution_count": null,
   "metadata": {
    "id": "wwK6oHYYRyOv"
   },
   "outputs": [],
   "source": [
    "df = df.reset_index() # use drop=True to remove the name column"
   ]
  },
  {
   "cell_type": "code",
   "execution_count": null,
   "metadata": {
    "id": "44uzNTDrRyOv"
   },
   "outputs": [],
   "source": [
    "df"
   ]
  },
  {
   "cell_type": "markdown",
   "metadata": {
    "id": "SnhUGRHbRyOv"
   },
   "source": [
    "## df.sort_values('name')"
   ]
  },
  {
   "cell_type": "code",
   "execution_count": null,
   "metadata": {
    "id": "ylBkHiGRRyOv"
   },
   "outputs": [],
   "source": [
    "df.sort_values('money')"
   ]
  },
  {
   "cell_type": "markdown",
   "metadata": {
    "id": "-jbk2QHnRyOv"
   },
   "source": [
    "## df.rename()\n",
    "Change the index or column label name"
   ]
  },
  {
   "cell_type": "code",
   "execution_count": null,
   "metadata": {
    "id": "ryTWQIxORyOw"
   },
   "outputs": [],
   "source": [
    "df.rename({'name':'first_name', 'apples':'fruit', 'book_id':'isbn', 'money':'income'}, axis='columns')"
   ]
  },
  {
   "cell_type": "code",
   "execution_count": null,
   "metadata": {
    "id": "mVcMyAsFRyOw"
   },
   "outputs": [],
   "source": [
    "df.rename({0:6, 3:8}, axis='index')"
   ]
  },
  {
   "cell_type": "code",
   "execution_count": null,
   "metadata": {
    "id": "PQ6o8S9-RyOw"
   },
   "outputs": [],
   "source": [
    "df.rename(str.upper, axis='columns')"
   ]
  },
  {
   "cell_type": "markdown",
   "metadata": {
    "id": "guE43P48RyOw"
   },
   "source": [
    "# Reshape DataFrame\n",
    "DataFrames can be restructured\n",
    "* pd.melt() - transform wide data into long formatted data....gather columns into rows\n",
    "* pd.concat() - append rows or columns of DataFrames"
   ]
  },
  {
   "cell_type": "markdown",
   "metadata": {
    "id": "nduLqAXkRyOw"
   },
   "source": [
    "## pd.melt()"
   ]
  },
  {
   "cell_type": "code",
   "execution_count": null,
   "metadata": {
    "id": "9U3DjmAbRyOw",
    "tags": []
   },
   "outputs": [],
   "source": [
    "df.melt()"
   ]
  },
  {
   "cell_type": "code",
   "execution_count": null,
   "metadata": {
    "id": "_HC1SrY9RyOw",
    "tags": []
   },
   "outputs": [],
   "source": [
    "# You can use as many columns as you want for id_vars and value_vars\n",
    "melted = df.melt(id_vars=['name', 'book_id'], value_vars=['apples', 'money', 'experience'])\n",
    "melted"
   ]
  },
  {
   "cell_type": "markdown",
   "metadata": {
    "id": "WbJwCZp7RyOw"
   },
   "source": [
    "## pd.concat()\n",
    "Pandas provides the ability to easily combine DataFrames."
   ]
  },
  {
   "cell_type": "code",
   "execution_count": null,
   "metadata": {
    "id": "lP-ioNznRyOw"
   },
   "outputs": [],
   "source": [
    "df1 = pd.DataFrame({\n",
    "    'name': ['Paul', 'Ryan', 'Ashley', 'Donald'],\n",
    "    'math': [60,89,82,70],\n",
    "    'physics': [66,95,83,66],\n",
    "    'chemistry': [61,91,77,70]\n",
    "})\n",
    "df2 = pd.DataFrame({\n",
    "    'name': ['Eddie', 'Frank', 'Greg', 'Hans'],\n",
    "    'math': [66,95,83,66],\n",
    "    'physics': [60,89,82,70],\n",
    "    'chemistry': [90,81,78,90]\n",
    "})"
   ]
  },
  {
   "cell_type": "code",
   "execution_count": null,
   "metadata": {
    "id": "ISFcmdFVRyOw"
   },
   "outputs": [],
   "source": [
    "pd.concat([df1, df2])"
   ]
  },
  {
   "cell_type": "code",
   "execution_count": null,
   "metadata": {
    "id": "e0c4mkJtRyOw"
   },
   "outputs": [],
   "source": [
    "pd.concat([df1,df2], axis=1)"
   ]
  },
  {
   "cell_type": "code",
   "execution_count": null,
   "metadata": {
    "id": "HaHHpM9zRyOw"
   },
   "outputs": [],
   "source": [
    "# Add a hierarchical index with keys and names\n",
    "res = pd.concat([df1, df2], keys=['Year 1', 'Year 2'], names=['Class', None])\n",
    "res"
   ]
  },
  {
   "cell_type": "markdown",
   "metadata": {
    "id": "tetz9xKCRyOw"
   },
   "source": [
    "# Series methods and attributes\n",
    "There are also methods attached to Series.  We will cover some the most used.\n",
    "* value_counts() [docs](https://pandas.pydata.org/docs/reference/api/pandas.Series.value_counts.html)\n",
    "* astype() [docs](https://pandas.pydata.org/docs/reference/api/pandas.Series.astype.html)\n",
    "* size() [docs](https://pandas.pydata.org/docs/reference/api/pandas.Series.size.html?highlight=size#pandas.Series.size)\n",
    "* count() [docs](https://pandas.pydata.org/docs/reference/api/pandas.Series.count.html?highlight=count#pandas.Series.count)\n",
    "* min() [docs](https://pandas.pydata.org/docs/reference/api/pandas.Series.min.html?highlight=min#pandas.Series.min0)\n",
    "* max() [docs](https://pandas.pydata.org/docs/reference/api/pandas.Series.max.html?highlight=max#pandas.Series.max)\n",
    "* mean() [docs](https://pandas.pydata.org/docs/reference/api/pandas.Series.mean.html)\n",
    "* median() [docs](https://pandas.pydata.org/docs/reference/api/pandas.Series.median.html)\n",
    "* std() [docss](https://pandas.pydata.org/docs/reference/api/pandas.Series.std.html)\n",
    "* isna() [docs](https://pandas.pydata.org/docs/reference/api/pandas.isna.html)\n",
    "* fillna() [docs](https://pandas.pydata.org/docs/reference/api/pandas.Series.fillna.html)\n",
    "* describe() [docs](https://pandas.pydata.org/docs/reference/api/pandas.Series.describe.html)\n",
    "* quantile() [docs](https://pandas.pydata.org/docs/reference/api/pandas.Series.quantile.html)\n",
    "* unique() [docs](https://pandas.pydata.org/docs/reference/api/pandas.Series.unique.htm)\n",
    "* sample() [docs](https://pandas.pydata.org/docs/reference/api/pandas.Series.sample.html)\n",
    "* cumsum() [docs](https://pandas.pydata.org/docs/reference/api/pandas.Series.cumsum.html)\n",
    "* replace() [docs](https://pandas.pydata.org/docs/reference/api/pandas.Series.replace.html)"
   ]
  },
  {
   "cell_type": "markdown",
   "metadata": {
    "id": "Klx-7HN5RyOx"
   },
   "source": [
    "## Value counts\n",
    "Counts the number of times a value appears in a column"
   ]
  },
  {
   "cell_type": "code",
   "execution_count": null,
   "metadata": {
    "id": "hursRN8bRyOx"
   },
   "outputs": [],
   "source": [
    "df['book_id'].value_counts()"
   ]
  },
  {
   "cell_type": "code",
   "execution_count": null,
   "metadata": {
    "id": "-l3r1B8vRyOx"
   },
   "outputs": [],
   "source": [
    "# Get percentage of Total\n",
    "df['book_id'].value_counts(normalize=True)"
   ]
  },
  {
   "cell_type": "code",
   "execution_count": null,
   "metadata": {
    "id": "wveowXz-RyOx"
   },
   "outputs": [],
   "source": [
    "# it doesn't count missing values\n",
    "df['money'].value_counts()"
   ]
  },
  {
   "cell_type": "markdown",
   "metadata": {
    "id": "1pfOB2_lRyOx"
   },
   "source": [
    "## astype"
   ]
  },
  {
   "cell_type": "code",
   "execution_count": null,
   "metadata": {
    "id": "C0_VOmtwRyOx"
   },
   "outputs": [],
   "source": [
    "salary = pd.read_csv('salary.csv')\n",
    "salary['education'] = ['PHD', 'MS', 'BA', 'BA', 'MS', 'PHD']\n",
    "salary['age'] = [34, 26, 22, 23, 28, 41]\n",
    "salary['weight_lb'] = [179, 98, 139, 99, 220, 191]"
   ]
  },
  {
   "cell_type": "code",
   "execution_count": null,
   "metadata": {
    "id": "gnkwBcYjRyOx"
   },
   "outputs": [],
   "source": [
    "salary.dtypes"
   ]
  },
  {
   "cell_type": "code",
   "execution_count": null,
   "metadata": {
    "id": "yqciWJSvRyOx"
   },
   "outputs": [],
   "source": [
    "salary['education'] = salary['education'].astype('category')"
   ]
  },
  {
   "cell_type": "code",
   "execution_count": null,
   "metadata": {
    "id": "WMChOcb-RyOx"
   },
   "outputs": [],
   "source": [
    "salary.dtypes"
   ]
  },
  {
   "cell_type": "markdown",
   "metadata": {
    "id": "4gnORMWhRyOx"
   },
   "source": [
    "## Size\n",
    "The number of values in the column including `nan`"
   ]
  },
  {
   "cell_type": "code",
   "execution_count": null,
   "metadata": {
    "id": "5w9w_id-RyOx"
   },
   "outputs": [],
   "source": [
    "salary.name.size"
   ]
  },
  {
   "cell_type": "markdown",
   "metadata": {
    "id": "DhSkphwkRyOx"
   },
   "source": [
    "## Count\n",
    "The number of values in the column excluding `nan`"
   ]
  },
  {
   "cell_type": "code",
   "execution_count": null,
   "metadata": {
    "id": "ocHPgLvGRyOx"
   },
   "outputs": [],
   "source": [
    "salary.money.count()"
   ]
  },
  {
   "cell_type": "markdown",
   "metadata": {
    "id": "yhaHtZM8RyOy"
   },
   "source": [
    "## Min,max,mean, median, std"
   ]
  },
  {
   "cell_type": "code",
   "execution_count": null,
   "metadata": {
    "id": "6FW-OAF-RyOy"
   },
   "outputs": [],
   "source": [
    "salary.money.min()"
   ]
  },
  {
   "cell_type": "code",
   "execution_count": null,
   "metadata": {
    "id": "FgQIasTKRyOy"
   },
   "outputs": [],
   "source": [
    "salary.money.max()"
   ]
  },
  {
   "cell_type": "code",
   "execution_count": null,
   "metadata": {
    "id": "3aB7BepPRyOy"
   },
   "outputs": [],
   "source": [
    "salary.experience.mean()"
   ]
  },
  {
   "cell_type": "code",
   "execution_count": null,
   "metadata": {
    "id": "mMOrP1KgRyOy"
   },
   "outputs": [],
   "source": [
    "salary"
   ]
  },
  {
   "cell_type": "code",
   "execution_count": null,
   "metadata": {
    "id": "nCZyuKfRRyOy"
   },
   "outputs": [],
   "source": [
    "young = (salary.apples <= 16)\n",
    "salary[young]['money'].mean()"
   ]
  },
  {
   "cell_type": "code",
   "execution_count": null,
   "metadata": {
    "id": "izJIGmNaRyOy"
   },
   "outputs": [],
   "source": [
    "salary.experience.median()"
   ]
  },
  {
   "cell_type": "code",
   "execution_count": null,
   "metadata": {
    "id": "HV00cFkHRyOy"
   },
   "outputs": [],
   "source": [
    "salary.money.std()"
   ]
  },
  {
   "cell_type": "markdown",
   "metadata": {
    "id": "6RzJ0-JwRyOy"
   },
   "source": [
    "## isna(), fillna(), dropna()\n",
    "The ability to detect and manage missing values is critical in data analysis"
   ]
  },
  {
   "cell_type": "code",
   "execution_count": null,
   "metadata": {
    "id": "YATTV80WRyOy"
   },
   "outputs": [],
   "source": [
    "salary['money'].isna()"
   ]
  },
  {
   "cell_type": "code",
   "execution_count": null,
   "metadata": {
    "id": "HzqLQhYZRyOy"
   },
   "outputs": [],
   "source": [
    "salary[salary['money'].isna()]"
   ]
  },
  {
   "cell_type": "code",
   "execution_count": null,
   "metadata": {
    "id": "4q2W7cReRyOy"
   },
   "outputs": [],
   "source": [
    "salary['money'].fillna(salary['money'].mean())"
   ]
  },
  {
   "cell_type": "code",
   "execution_count": null,
   "metadata": {
    "id": "gGCax8-JRyOy"
   },
   "outputs": [],
   "source": [
    "salary"
   ]
  },
  {
   "cell_type": "markdown",
   "metadata": {
    "id": "T4Fgxk2ARyOy"
   },
   "source": [
    "## describe()"
   ]
  },
  {
   "cell_type": "code",
   "execution_count": null,
   "metadata": {
    "id": "rbeFHEhfRyOy"
   },
   "outputs": [],
   "source": [
    "salary.experience.describe()"
   ]
  },
  {
   "cell_type": "markdown",
   "metadata": {
    "id": "hwoeRQKiRyOz"
   },
   "source": [
    "## quantile()"
   ]
  },
  {
   "cell_type": "code",
   "execution_count": null,
   "metadata": {
    "id": "97MddL20RyOz"
   },
   "outputs": [],
   "source": [
    "salary.money.quantile()"
   ]
  },
  {
   "cell_type": "markdown",
   "metadata": {
    "id": "hvz8Q0mzRyOz"
   },
   "source": [
    "## unique()"
   ]
  },
  {
   "cell_type": "code",
   "execution_count": null,
   "metadata": {
    "id": "Yt2_pER9RyOz"
   },
   "outputs": [],
   "source": [
    "salary.book_id.unique()"
   ]
  },
  {
   "cell_type": "markdown",
   "metadata": {
    "id": "P2-i2UDIRyOz"
   },
   "source": [
    "## sum() and cumsum()"
   ]
  },
  {
   "cell_type": "code",
   "execution_count": null,
   "metadata": {
    "id": "2VTdK8G1RyOz"
   },
   "outputs": [],
   "source": [
    "sales = pd.read_excel('https://github.com/lwgray/mediumdata/raw/master/sample_pivot.xlsx',\n",
    "                      engine='openpyxl', parse_dates=['Date'])\n",
    "print(sales.shape)\n",
    "sales.head()"
   ]
  },
  {
   "cell_type": "code",
   "execution_count": null,
   "metadata": {
    "id": "12O0cSLoRyOz"
   },
   "outputs": [],
   "source": [
    "sales.Units.sum()"
   ]
  },
  {
   "cell_type": "code",
   "execution_count": null,
   "metadata": {
    "id": "W4PDu_8pRyOz"
   },
   "outputs": [],
   "source": [
    "sales.Sales.cumsum()"
   ]
  },
  {
   "cell_type": "markdown",
   "metadata": {
    "id": "BdNQYcnkRyOz"
   },
   "source": [
    "## sample()"
   ]
  },
  {
   "cell_type": "code",
   "execution_count": null,
   "metadata": {
    "id": "NyN0vb1nRyOz"
   },
   "outputs": [],
   "source": [
    "sales.sample(500)"
   ]
  },
  {
   "cell_type": "code",
   "execution_count": null,
   "metadata": {
    "id": "EQG_jG5ARyOz"
   },
   "outputs": [],
   "source": [
    "sales.to_csv('sales.csv')"
   ]
  },
  {
   "cell_type": "code",
   "execution_count": null,
   "metadata": {
    "id": "NiHUE6EtRyOz"
   },
   "outputs": [],
   "source": [
    "## replace()"
   ]
  },
  {
   "cell_type": "code",
   "execution_count": null,
   "metadata": {
    "id": "JtGHREGjRyOz"
   },
   "outputs": [],
   "source": [
    "# 98 and 99 weights are codes for unknown\n",
    "salary.weight_lb.replace([98,99], np.nan)"
   ]
  },
  {
   "cell_type": "markdown",
   "metadata": {
    "id": "iGWMJfXwRyOz"
   },
   "source": [
    "# Pair Programming\n",
    "Congratulations!  After making through Week 3, I wanted to award you with a exciting challenge.  You have been given the title of Junior Data Analyst for a board/card game company called 'High-Five Games'.  Their most successful fantasy card game 'Monsters under my bed'. The company would like you to produce a report the converts the player purchasing data into meaningful insights.\n",
    "\n",
    "Use your pandas skills to answer the following questions.\n",
    "All data is contained within monster_trading_cards.csv\n",
    "\n",
    "## Number of Players\n",
    "* What is the total number of unique players(user_name)\n",
    "\n",
    "## Calculate Totals\n",
    "* Number of Unique Monsters\n",
    "* Average Purchase Price\n",
    "* Total Number of Purchases\n",
    "* Total Revenue\n",
    "\n",
    "## Breakdown the Gender Demographics\n",
    "* % and number of males\n",
    "* % and number of females\n",
    "* % and number of non-disclosed\n",
    "\n",
    "## Purchases by men\n",
    "* number of purchases\n",
    "* Average Purchase Price\n",
    "* Total Purchase amount"
   ]
  }
 ],
 "metadata": {
  "colab": {
   "name": "Week3-Saturday-Pandas - Lawrence Gray.ipynb",
   "provenance": []
  },
  "kernelspec": {
   "display_name": "Python 3 (ipykernel)",
   "language": "python",
   "name": "python3"
  },
  "language_info": {
   "codemirror_mode": {
    "name": "ipython",
    "version": 3
   },
   "file_extension": ".py",
   "mimetype": "text/x-python",
   "name": "python",
   "nbconvert_exporter": "python",
   "pygments_lexer": "ipython3",
   "version": "3.9.13"
  }
 },
 "nbformat": 4,
 "nbformat_minor": 1
}
