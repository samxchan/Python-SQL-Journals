{
 "cells": [
  {
   "cell_type": "code",
   "execution_count": null,
   "metadata": {},
   "outputs": [],
   "source": [
    "import pandas as pd"
   ]
  },
  {
   "cell_type": "markdown",
   "metadata": {},
   "source": [
    "# Merging and Joining DataFrames\n",
    "Sometimes when we are working on a big project and data is coming from different sources then we need to combine those data as one DataFrame."
   ]
  },
  {
   "cell_type": "markdown",
   "metadata": {},
   "source": [
    "## Merge method\n",
    "Documentation: [Pandas.DataFrame.merge](https://pandas.pydata.org/pandas-docs/stable/reference/api/pandas.DataFrame.merge.html)\n",
    "\n",
    "Merging is the process of joining two distinct DataFrames.  The process of merging them can be accomplished 5 different ways.  We will learn about four of them (inner, outer, left, right)\n",
    "\n",
    "<img src=https://miro.medium.com/max/3600/1*9eH1_7VbTZPZd9jBiGIyNA.png width=50% height=50%>\n",
    "# DataFrame 1\n",
    "<img src=https://drive.google.com/uc?id=1d-8a4zcx34EKUE-bHN_eYyFksldygJtA>\n",
    "# DataFrame 2\n",
    "<img src=https://drive.google.com/uc?id=1pt2DhR1VqixV8H6uFUm8vyOXrg4-P-_T>\n",
    "# Inner Merge\n",
    "<img src=https://drive.google.com/uc?id=1wGKCyUnH69U6GztQ1JS7AwWiL-KmnLMH>\n",
    "# Left Merge\n",
    "<img src=https://drive.google.com/uc?id=1trPZoVqGmqnute1xsOro1EcxVQcCuFy6>\n",
    "# Right Merge\n",
    "<img src=https://drive.google.com/uc?id=1202Zym48VEx6w5tL02_W2fhalS1CV27Z>\n",
    "# Outer Merge\n",
    "<img src=https://drive.google.com/uc?id=1g49zV0lpmk3gvy9eQfWd_p-zMiY8FU1l>"
   ]
  },
  {
   "cell_type": "code",
   "execution_count": null,
   "metadata": {},
   "outputs": [],
   "source": [
    "# Create 2 DataFrames that will be merged\n",
    "data_list = [ ['Larry',2,3,4], ['Matt',6,7,8], ['Kass', 9, 10, 11], ['Ben', 12, 13,  14] ]\n",
    "data_dict = {\n",
    "             'name':['Larry','Matt','Kass', 'Molly'],\n",
    "             'apples':[14, 15, 16, 17],\n",
    "             'book_id': [123, 456, 789, 101],\n",
    "            }\n",
    "df1 = pd.DataFrame(data_list, columns=['name','bubbles', 'songs', 'balls'])\n",
    "df2 = pd.DataFrame(data_dict)"
   ]
  },
  {
   "cell_type": "markdown",
   "metadata": {},
   "source": [
    "### Merge method with inner Joins"
   ]
  },
  {
   "cell_type": "code",
   "execution_count": null,
   "metadata": {},
   "outputs": [],
   "source": [
    "print(df1)\n",
    "print('\\n')\n",
    "print(df2)"
   ]
  },
  {
   "cell_type": "code",
   "execution_count": null,
   "metadata": {},
   "outputs": [],
   "source": [
    "df1.merge(df2, how='inner', on='name')"
   ]
  },
  {
   "cell_type": "markdown",
   "metadata": {},
   "source": [
    "### Merge method with left Joins"
   ]
  },
  {
   "cell_type": "code",
   "execution_count": null,
   "metadata": {
    "tags": []
   },
   "outputs": [],
   "source": [
    "df1.merge(df2, how='left', on='name')"
   ]
  },
  {
   "cell_type": "markdown",
   "metadata": {},
   "source": [
    "### Merge method with right Joins"
   ]
  },
  {
   "cell_type": "code",
   "execution_count": null,
   "metadata": {},
   "outputs": [],
   "source": [
    "df1.merge(df2, how='right', on='name')"
   ]
  },
  {
   "cell_type": "markdown",
   "metadata": {},
   "source": [
    "### Merge method with outer Joins"
   ]
  },
  {
   "cell_type": "code",
   "execution_count": null,
   "metadata": {},
   "outputs": [],
   "source": [
    "df1.merge(df2, how='outer', on='name')"
   ]
  },
  {
   "cell_type": "markdown",
   "metadata": {
    "tags": []
   },
   "source": [
    "### Multiple merges"
   ]
  },
  {
   "cell_type": "code",
   "execution_count": null,
   "metadata": {},
   "outputs": [],
   "source": [
    "df3 = pd.DataFrame({'book_id': [121, 456, 789, 101, 123],\n",
    "                    'book_name': ['Applied Text Analysis with Python',\n",
    "                                  \"Pandas 1.x Cookbook\", \"Think Stats\",\n",
    "                                  \"Think Python\", \"Visual Analytics for Machine Learning\"]})"
   ]
  },
  {
   "cell_type": "code",
   "execution_count": null,
   "metadata": {},
   "outputs": [],
   "source": [
    "df3.merge(df1.merge(df2, how='inner', on='name'), how='left', on='book_id')"
   ]
  },
  {
   "cell_type": "markdown",
   "metadata": {},
   "source": [
    "# DataFrame Groupby"
   ]
  },
  {
   "cell_type": "markdown",
   "metadata": {},
   "source": [
    "### grouping with a single column"
   ]
  },
  {
   "cell_type": "markdown",
   "metadata": {},
   "source": [
    "## Grouping and aggregating with multiple columns and functions"
   ]
  },
  {
   "cell_type": "markdown",
   "metadata": {},
   "source": [
    "# Aggregating Data - DataFrame Groupby\n",
    "Documentation: [Pandas.DataFrame.Groupby](https://pandas.pydata.org/pandas-docs/stable/reference/api/pandas.DataFrame.groupby.html?highlight=groupby#pandas.DataFrame.groupby)\n",
    "\n",
    "- books.groupby(['category','rank']) # grouping with a list\n",
    "\n",
    "- books.groupby('category') #single column group\n",
    "\n",
    "Returns a Groupby Object\n",
    "\n",
    "The most common use of the `.groupby` method is to perform an aggregation.\n",
    "Aggregation is when a sequence of many inputs get summarized or combined into a single value output\n",
    "\n",
    "\n",
    "Aggregation has two components\n",
    "1. The aggregating columns - values that will be aggreaged\n",
    "2. The aggregation function - define what aggregations will take place\n",
    "\n",
    "Example Aggregating functions:\n",
    "\n",
    "`mean` - Taking the mean of a column\n",
    "\n",
    "`sum` - summing up all the values of a column\n",
    "\n",
    "`min` - find minimum value in column\n",
    "\n",
    "`max` - find max value in column\n",
    "\n",
    "`count` - compute count of group, excluding missing values.\n",
    "\n",
    "`var` - find variance of column values\n",
    "\n",
    "`std` - find standard deviation of column values\n",
    "\n",
    "`size` - find total number within a group"
   ]
  },
  {
   "cell_type": "code",
   "execution_count": null,
   "metadata": {},
   "outputs": [],
   "source": [
    "unames = ['category', 'book_id', 'book_namme', 'rank', 'sales', 'type', 'sold_out', 'best_seller']\n",
    "books = pd.read_table('book_categories.txt', sep='--', names = unames, engine='python', header=0)"
   ]
  },
  {
   "cell_type": "markdown",
   "metadata": {},
   "source": [
    "## Grouping with a single column"
   ]
  },
  {
   "cell_type": "code",
   "execution_count": null,
   "metadata": {},
   "outputs": [],
   "source": [
    "# pass in a dictionary and returns a DataFrame\n",
    "books.groupby('category').agg({'sales':'mean'})"
   ]
  },
  {
   "cell_type": "code",
   "execution_count": null,
   "metadata": {},
   "outputs": [],
   "source": [
    "# sort sales from high to low\n",
    "books.groupby('category').agg({'sales':'mean'}).sort_values('sales', ascending=False)"
   ]
  },
  {
   "cell_type": "code",
   "execution_count": null,
   "metadata": {},
   "outputs": [],
   "source": [
    "# Placing the aggregating column in the index operator and then pass the aggregating function as a string to .agg will return a Series\n",
    "books.groupby('category')['sales'].agg('mean')"
   ]
  },
  {
   "cell_type": "code",
   "execution_count": null,
   "metadata": {},
   "outputs": [],
   "source": [
    "books.groupby('category')['sales'].mean()"
   ]
  },
  {
   "cell_type": "markdown",
   "metadata": {},
   "source": [
    "## Grouping and aggregating with multiple columns and functions\n",
    "First identify - the grouping columns, aggregating columns, and aggregating functions\n",
    "\n",
    "Answer the following Questions:\n",
    "1. Find the sum of best sellers for every category per type\n",
    "2. Find the sum and mean of sold out and best seller books for every category per type\n",
    "3. For each category and rank, find the total number (size) of books, the number and mean of best sellers and the mean and variance of the sales"
   ]
  },
  {
   "cell_type": "code",
   "execution_count": null,
   "metadata": {},
   "outputs": [],
   "source": [
    "# 1. Find the sum of best sellers for every category per type#\n",
    "books.groupby(['category', 'type'])[['best_seller']].agg('sum')"
   ]
  },
  {
   "cell_type": "code",
   "execution_count": null,
   "metadata": {},
   "outputs": [],
   "source": [
    "books.groupby(['category', 'type'])[['best_seller']].agg('sum').sort_values('best_seller', ascending=False)"
   ]
  },
  {
   "cell_type": "markdown",
   "metadata": {},
   "source": [
    "To group by multiple columns as in step 1, we pass a list of the string names to the .groupby\n",
    "method. Each unique combination of category and type forms its own group. Within \n",
    "each of these groups, the sum of the best sellers is calculated "
   ]
  },
  {
   "cell_type": "code",
   "execution_count": null,
   "metadata": {},
   "outputs": [],
   "source": [
    "# 2. Find the sum and mean of sold out and best seller books for every category per type\n",
    "books.groupby(['category', 'type'])[['sold_out', 'best_seller']].agg(['sum', 'mean'])\n"
   ]
  },
  {
   "cell_type": "markdown",
   "metadata": {},
   "source": [
    "Step 2 groups by both category and type, but this time aggregates two columns. \n",
    "It applies each of the two aggregation functions, using the strings sum and mean, to each \n",
    "column, resulting in four returned columns per group."
   ]
  },
  {
   "cell_type": "code",
   "execution_count": null,
   "metadata": {},
   "outputs": [],
   "source": [
    "# 3. For each category and rank, find the total number (size) of books, the number and mean of best sellers and the mean and variance of the sales\n",
    "books.groupby(['category', 'rank']).agg({'best_seller':['size', 'sum', 'mean'],\n",
    "                                        'sales':['mean','var']})"
   ]
  },
  {
   "cell_type": "markdown",
   "metadata": {},
   "source": [
    "Step 3 goes even further, and uses a dictionary to map specific aggregating columns to \n",
    "different aggregating functions. Notice that the size aggregating function returns the total \n",
    "number of rows per group. This is different than the count aggregating function, which \n",
    "returns the number of non-missing values per group."
   ]
  },
  {
   "cell_type": "code",
   "execution_count": null,
   "metadata": {},
   "outputs": [],
   "source": [
    "#sort by mean sales - high to low\n",
    "books.groupby(['category', 'rank']).agg({'best_seller':['size', 'sum', 'mean'],\n",
    "                                        'sales':['mean','var']}).sort_values(('sales', 'mean'), ascending=False)"
   ]
  },
  {
   "cell_type": "markdown",
   "metadata": {},
   "source": [
    "# Pair Programming\n",
    "1. Merge the df_customer and df_info DataFrames by id with an right join and assign the resulting DataFrame to the variable name `combined`\n",
    "2. Aggregrate the `combined` DataFrame.  Groupby the `sex` column and aggregate `age` and `weight` by mean then sort by weight"
   ]
  },
  {
   "cell_type": "code",
   "execution_count": null,
   "metadata": {},
   "outputs": [],
   "source": [
    "df_customer = pd.DataFrame({\n",
    "    'id': [1, 2, 3, 4],\n",
    "    'name': ['Tom', 'Jenny', 'James', 'Dan'],\n",
    "})\n",
    "\n",
    "df_info = pd.DataFrame({\n",
    "    'id': [2, 3, 4, 5],\n",
    "    'age': [31, 20, 40, 70],\n",
    "    'sex': ['F', 'M', 'M', 'F'],\n",
    "    'weight': [125, 185, 220, 130]\n",
    "})"
   ]
  }
 ],
 "metadata": {
  "kernelspec": {
   "display_name": "Python 3 (ipykernel)",
   "language": "python",
   "name": "python3"
  },
  "language_info": {
   "codemirror_mode": {
    "name": "ipython",
    "version": 3
   },
   "file_extension": ".py",
   "mimetype": "text/x-python",
   "name": "python",
   "nbconvert_exporter": "python",
   "pygments_lexer": "ipython3",
   "version": "3.9.13"
  }
 },
 "nbformat": 4,
 "nbformat_minor": 4
}
