{
 "cells": [
  {
   "cell_type": "markdown",
   "id": "8def7c1b",
   "metadata": {},
   "source": [
    "# SQLite\n",
    "\n",
    "SQLite is an embedded, file-based relational database management system (RDBMS) that does not require any installation or setup. This makes it convenient to use since it does not need to run under a separate server process that needs to be started, stopped, or configured. In addition, a SQLite database is stored within a single file on your computer.\n",
    "\n",
    "\n",
    "# `sqlite3` Library\n",
    "\n",
    "The sqlite3 module provides an interface that adheres to the Python database API specification.\n",
    "To access and manage our SQLite database, we can use the `sqlite3` module that is already included in the Python standard library. The library provides an SQL interface compliant with the DB-API 2.0 specification which you can read about in more detail in [PEP 249](https://www.python.org/dev/peps/pep-0249/). \n",
    "\n",
    "`sqlite3` [documentation](https://docs.python.org/3/library/sqlite3.html)"
   ]
  },
  {
   "cell_type": "code",
   "execution_count": 1,
   "id": "769f3c2e",
   "metadata": {},
   "outputs": [],
   "source": [
    "import sqlite3\n",
    "import pandas as pd"
   ]
  },
  {
   "cell_type": "markdown",
   "id": "0005b3de",
   "metadata": {},
   "source": [
    "# Databases\n",
    "\n",
    "To begin, we need to pass the filename (and the path to the file if it is not located in the same folder) our database to the `sqlite3` library's `connect()` method, which will return a connection object that we can use to interact with our database.\n",
    "\n",
    "If the database does not already exist, the `connect()` method will create an empty database for us.\n",
    "\n",
    "`conn = sqlite3.connect('/path/to/file/database.sqlite3')`  \n",
    "`conn = sqlite3.connect('/path/to/file/database.db')`"
   ]
  },
  {
   "cell_type": "code",
   "execution_count": 2,
   "id": "ac6a2bfb",
   "metadata": {},
   "outputs": [],
   "source": [
    "# Mac or Linux: Look at the available databases\n",
    "# !ls -la Data"
   ]
  },
  {
   "cell_type": "code",
   "execution_count": 3,
   "id": "4c72d843",
   "metadata": {},
   "outputs": [],
   "source": [
    "# Windows: Look at the available databases\n",
    "# !dir Data"
   ]
  },
  {
   "cell_type": "code",
   "execution_count": 4,
   "id": "158fb1e7",
   "metadata": {},
   "outputs": [
    {
     "data": {
      "text/plain": [
       "<sqlite3.Connection at 0x7fd4858b5030>"
      ]
     },
     "execution_count": 4,
     "metadata": {},
     "output_type": "execute_result"
    }
   ],
   "source": [
    "# Connect to a database\n",
    "conn = sqlite3.connect('Data/company-database.db')\n",
    "\n",
    "# Print the connection object\n",
    "conn"
   ]
  },
  {
   "cell_type": "code",
   "execution_count": 5,
   "id": "c749cc4b",
   "metadata": {},
   "outputs": [],
   "source": [
    "# Mac or Linux: Verify the database was created\n",
    "# !ls -la Data"
   ]
  },
  {
   "cell_type": "code",
   "execution_count": 6,
   "id": "4f5d8c6c",
   "metadata": {},
   "outputs": [],
   "source": [
    "# Windows: Verify the database was created\n",
    "# !dir Data"
   ]
  },
  {
   "cell_type": "markdown",
   "id": "54eefeac",
   "metadata": {},
   "source": [
    "## Cursor\n",
    "\n",
    "Once we've connected to our database, we need to call the connection object's `cursor()` method. It will return a cursor object that includes several important methods we will need to interact with our database.\n",
    "\n",
    "The first is the `cursor.execute()` method, which is what we will use to send our SQL statements to the SQLite database. Another is `fetchall()`. This method returns the results of our queries as a list with each row stored in a tuple.\n",
    "\n",
    "Let's start by first creating our cursor object. "
   ]
  },
  {
   "cell_type": "code",
   "execution_count": 7,
   "id": "6d313ac3",
   "metadata": {},
   "outputs": [
    {
     "data": {
      "text/plain": [
       "<sqlite3.Cursor at 0x7fd4858afb20>"
      ]
     },
     "execution_count": 7,
     "metadata": {},
     "output_type": "execute_result"
    }
   ],
   "source": [
    "# Create a cursor object\n",
    "cursor = conn.cursor()\n",
    "\n",
    "# Print the cursor object\n",
    "cursor"
   ]
  },
  {
   "cell_type": "markdown",
   "id": "bba4b9cb",
   "metadata": {},
   "source": [
    "# SQL Syntax\n",
    "\n",
    "Some important points to keep in mind:\n",
    "- Spaces, or whitespace, is treated differently than with Python, so you can use new lines and whitespace to format your code for readability.\n",
    "- If the name of the table or column must consist of more than one word, use an underscore to connect them.\n",
    "- SQL keywords are not case sensitive, but it is good practice to capitalize them so that you can easily identify them.\n",
    "- You can use single or double quotes\n",
    "- While SQLite does not, most relational database systems require that you end a query with a semicolon (`;`), so I recommend getting in the habit of doing this also.\n",
    "- Avoid giving the same name to both a table and a column.\n",
    "\n",
    "# Tables\n",
    "\n",
    "Remember that a relational database stores data in tables. We can do that with the `CREATE TABLE` statement, which is where we will define the table name, column names, and the data types for each column.\n",
    " \n",
    "\n",
    "## Data Types\n",
    "\n",
    "When creating a new table, we must specify the data type of each column. Relational databases such as MySQL and MariaDB offer a much wider variety of data types. However, SQLite includes many of the core types you will need most often.\n",
    "\n",
    "SQLite offers 5 different storage classes. A storage class is more general than a datatype but for the most part they are indistinguishable and the two terms are often used interchangeably.\n",
    "\n",
    "| Data Type | Description |\n",
    "| :-------- | :---------- |\n",
    "| INTEGER | A whole number |\n",
    "| REAL | An 8-byte floating-point value |\n",
    "| BLOB | A blob of data (binary large object) for storing binary data. Ex. images |\n",
    "| TEXT | A text string, typically UTF-8 encoded (depending on the database encoding) |\n",
    "| NULL |  A NULL value representing missing data or an empty cell |\n",
    "\n",
    "Unfortunately, SQLite does not include a `Boolean` data type. However, a simple workaround that is often used is to simply re-purpose the INTEGER type to represent those values (`0` = `false`, `1` = `true`).\n",
    "\n",
    "It also does not have a datetime type. Instead, it leverages some built-in date and time functions so that we can use some of the other data types (`TEXT`, `REAL`, `INTEGER`) for storing date and time values. We'll look at some specific examples of how to do this a little later on.\n",
    "\n",
    "*For more information on using dates and timestamps with SQLite, this tutorial has an excellent walkthrough [SQLite Date & Time](https://www.sqlitetutorial.net/sqlite-date/).*"
   ]
  },
  {
   "cell_type": "markdown",
   "id": "1f28811d",
   "metadata": {},
   "source": [
    "**`CREATE TABLE` Syntax**\n",
    "\n",
    "```\n",
    "CREATE TABLE table_name (\n",
    "    column_name    TEXT,\n",
    "    column_name    INTEGER\n",
    ");\n",
    "```"
   ]
  },
  {
   "cell_type": "code",
   "execution_count": 8,
   "id": "7fe0fb42",
   "metadata": {},
   "outputs": [
    {
     "data": {
      "text/plain": [
       "<sqlite3.Cursor at 0x7fd4858afb20>"
      ]
     },
     "execution_count": 8,
     "metadata": {},
     "output_type": "execute_result"
    }
   ],
   "source": [
    "# Create a table\n",
    "cursor.execute(\"\"\"CREATE TABLE employee (\n",
    "        first_nme     TEXT,\n",
    "        last_name     TEXT,\n",
    "        title         TEXT,\n",
    "        salary        INTEGER\n",
    ");\"\"\")"
   ]
  },
  {
   "cell_type": "markdown",
   "id": "347b9986",
   "metadata": {},
   "source": [
    "## Duplicate Tables\n",
    "\n",
    "Drats! One of our column names contains a typo. If we try to simply create a new table with the same name, we will get an `OperationalError`. One option is to delete the original table by using the `DROP TABLE` command and then create the new table."
   ]
  },
  {
   "cell_type": "code",
   "execution_count": 9,
   "id": "68db0e55",
   "metadata": {},
   "outputs": [
    {
     "data": {
      "text/plain": [
       "<sqlite3.Cursor at 0x7fd4858afb20>"
      ]
     },
     "execution_count": 9,
     "metadata": {},
     "output_type": "execute_result"
    }
   ],
   "source": [
    "# Drop an existing table\n",
    "cursor.execute('DROP TABLE employee;')\n",
    "\n",
    "# Create a table\n",
    "cursor.execute(\"\"\"CREATE TABLE employee (\n",
    "        first_name    TEXT,\n",
    "        last_name     TEXT,\n",
    "        title         TEXT,\n",
    "        salary        INT\n",
    ");\"\"\")"
   ]
  },
  {
   "cell_type": "markdown",
   "id": "952ff85b",
   "metadata": {},
   "source": [
    "However, what happens if we try to drop a table that doesn't exist?"
   ]
  },
  {
   "cell_type": "code",
   "execution_count": 10,
   "id": "33cbf381",
   "metadata": {},
   "outputs": [
    {
     "ename": "OperationalError",
     "evalue": "no such table: employees",
     "output_type": "error",
     "traceback": [
      "\u001b[0;31m---------------------------------------------------------------------------\u001b[0m",
      "\u001b[0;31mOperationalError\u001b[0m                          Traceback (most recent call last)",
      "\u001b[0;32m<ipython-input-10-4a9c3a185f99>\u001b[0m in \u001b[0;36m<module>\u001b[0;34m\u001b[0m\n\u001b[1;32m      1\u001b[0m \u001b[0;31m# Try to drop a table that doesn't exist\u001b[0m\u001b[0;34m\u001b[0m\u001b[0;34m\u001b[0m\u001b[0;34m\u001b[0m\u001b[0m\n\u001b[0;32m----> 2\u001b[0;31m \u001b[0mcursor\u001b[0m\u001b[0;34m.\u001b[0m\u001b[0mexecute\u001b[0m\u001b[0;34m(\u001b[0m\u001b[0;34m'DROP TABLE employees;'\u001b[0m\u001b[0;34m)\u001b[0m\u001b[0;34m\u001b[0m\u001b[0;34m\u001b[0m\u001b[0m\n\u001b[0m",
      "\u001b[0;31mOperationalError\u001b[0m: no such table: employees"
     ]
    }
   ],
   "source": [
    "# Try to drop a table that doesn't exist\n",
    "cursor.execute('DROP TABLE employees;')"
   ]
  },
  {
   "cell_type": "markdown",
   "id": "e6bca9e7",
   "metadata": {},
   "source": [
    "To prevent receiving an error, adding `IF EXISTS` will allow our code to still run if we try to drop a table that does not exist. "
   ]
  },
  {
   "cell_type": "code",
   "execution_count": 11,
   "id": "86c98bdf",
   "metadata": {},
   "outputs": [
    {
     "data": {
      "text/plain": [
       "<sqlite3.Cursor at 0x7fd4858afb20>"
      ]
     },
     "execution_count": 11,
     "metadata": {},
     "output_type": "execute_result"
    }
   ],
   "source": [
    "# Drop an existing table\n",
    "cursor.execute('DROP TABLE IF EXISTS employees;')"
   ]
  },
  {
   "cell_type": "markdown",
   "id": "c4d10dbb",
   "metadata": {},
   "source": [
    "## Table Names\n",
    "\n",
    "The table names in a SQLite database are stored inside the system `sqlite_master` table. To access it, we will need first need to execute our query and then use the `fetchall()` method.\n",
    "\n",
    "Don't worry that you haven't learned all of the SQL syntax in this code block yet! We will cover this syntax a little later in the lesson."
   ]
  },
  {
   "cell_type": "code",
   "execution_count": 12,
   "id": "c5a5f64a",
   "metadata": {},
   "outputs": [
    {
     "data": {
      "text/plain": [
       "[('employee',)]"
      ]
     },
     "execution_count": 12,
     "metadata": {},
     "output_type": "execute_result"
    }
   ],
   "source": [
    "# Execute our query and fetch the results\n",
    "cursor.execute(\"\"\"\n",
    "        SELECT name\n",
    "        FROM sqlite_master\n",
    "        WHERE type='table';\n",
    "\"\"\").fetchall()"
   ]
  },
  {
   "cell_type": "markdown",
   "id": "25b1bcd0",
   "metadata": {},
   "source": [
    "## INSERT INTO\n",
    "\n",
    "`INSERT` statements are used to add a new row to a table in our database.\n",
    "\n",
    " *Please note that running the following cell multiple times will create duplicate rows.* "
   ]
  },
  {
   "cell_type": "code",
   "execution_count": 13,
   "id": "ec746696",
   "metadata": {},
   "outputs": [
    {
     "data": {
      "text/plain": [
       "<sqlite3.Cursor at 0x7fd4858afb20>"
      ]
     },
     "execution_count": 13,
     "metadata": {},
     "output_type": "execute_result"
    }
   ],
   "source": [
    "# Drop an existing table\n",
    "cursor.execute('DROP TABLE IF EXISTS employee;')\n",
    "\n",
    "# Create a table\n",
    "cursor.execute(\"\"\"CREATE TABLE employee (\n",
    "        first_name    TEXT,\n",
    "        last_name     TEXT,\n",
    "        title         TEXT,\n",
    "        salary        INTEGER\n",
    ");\"\"\")\n",
    "\n",
    "\n",
    "# Insert table rows\n",
    "cursor.execute(\"INSERT INTO employee VALUES ('Rupert', 'Giles', 'CEO', 425000);\")\n",
    "cursor.execute(\"INSERT INTO employee VALUES ('Willow', 'Rosenberg', 'Data Scientist', 350000);\")"
   ]
  },
  {
   "cell_type": "markdown",
   "id": "11afc1c8",
   "metadata": {},
   "source": [
    "# Metadata\n",
    "\n",
    "Metadata is information about the data in the database, such as the name of the tables and columns. We can access it in SQLite by using the `PRAGMA` command. \n",
    "\n",
    "For example, the `PRAGMA table_info(table_name)` command will return one row for each column in the table. Each column in the result set include the column's order number, name, data type, whether or not the column can be NULL, and its default value."
   ]
  },
  {
   "cell_type": "code",
   "execution_count": 14,
   "id": "1e27f952",
   "metadata": {},
   "outputs": [
    {
     "data": {
      "text/plain": [
       "[(0, 'first_name', 'TEXT', 0, None, 0),\n",
       " (1, 'last_name', 'TEXT', 0, None, 0),\n",
       " (2, 'title', 'TEXT', 0, None, 0),\n",
       " (3, 'salary', 'INTEGER', 0, None, 0)]"
      ]
     },
     "execution_count": 14,
     "metadata": {},
     "output_type": "execute_result"
    }
   ],
   "source": [
    "# Print out the table info\n",
    "cursor.execute(\"PRAGMA TABLE_INFO('employee')\").fetchall()"
   ]
  },
  {
   "cell_type": "code",
   "execution_count": 15,
   "id": "c2d97f5c",
   "metadata": {},
   "outputs": [
    {
     "name": "stdout",
     "output_type": "stream",
     "text": [
      "['first_name', 'last_name', 'title', 'salary']\n"
     ]
    }
   ],
   "source": [
    "# Query the column names\n",
    "cursor.execute(\"PRAGMA TABLE_INFO('employee')\")\n",
    "\n",
    "# Save column names in a list \n",
    "names = [col[1] for col in cursor.fetchall()]\n",
    "print(names)"
   ]
  },
  {
   "cell_type": "markdown",
   "id": "92d3e1c8",
   "metadata": {},
   "source": [
    "## Primary Key\n",
    "\n",
    "Wait, how will our database know which column is our primary key?\n",
    "\n",
    "When you create a new table and don't specify which column is the primary key, SQLite will automatically create an implicit auto-incremented column called `rowid`. It will store a signed integer that will uniquely identify each row in our table."
   ]
  },
  {
   "cell_type": "code",
   "execution_count": 16,
   "id": "ce824f23",
   "metadata": {},
   "outputs": [
    {
     "data": {
      "text/plain": [
       "[('Rupert', 'Giles', 'CEO', 425000),\n",
       " ('Willow', 'Rosenberg', 'Data Scientist', 350000)]"
      ]
     },
     "execution_count": 16,
     "metadata": {},
     "output_type": "execute_result"
    }
   ],
   "source": [
    "# SELECT all columns\n",
    "cursor.execute(\"\"\"\n",
    "        SELECT *\n",
    "        FROM employee;\n",
    "\"\"\").fetchall()"
   ]
  },
  {
   "cell_type": "code",
   "execution_count": 17,
   "id": "2d32f237",
   "metadata": {},
   "outputs": [
    {
     "data": {
      "text/plain": [
       "[(1, 'Rupert', 'Giles'), (2, 'Willow', 'Rosenberg')]"
      ]
     },
     "execution_count": 17,
     "metadata": {},
     "output_type": "execute_result"
    }
   ],
   "source": [
    "# Explicitly select the `rowid` field\n",
    "cursor.execute(\"\"\"\n",
    "        SELECT rowid, first_name, last_name\n",
    "        FROM employee;\n",
    "\"\"\").fetchall()"
   ]
  },
  {
   "cell_type": "markdown",
   "id": "358ea127",
   "metadata": {},
   "source": [
    "Let's see how we can set our primary key when we creating a new table."
   ]
  },
  {
   "cell_type": "code",
   "execution_count": 18,
   "id": "ab205c5d",
   "metadata": {},
   "outputs": [
    {
     "ename": "OperationalError",
     "evalue": "table employee has 5 columns but 4 values were supplied",
     "output_type": "error",
     "traceback": [
      "\u001b[0;31m---------------------------------------------------------------------------\u001b[0m",
      "\u001b[0;31mOperationalError\u001b[0m                          Traceback (most recent call last)",
      "\u001b[0;32m<ipython-input-18-a8ebf0d0a056>\u001b[0m in \u001b[0;36m<module>\u001b[0;34m\u001b[0m\n\u001b[1;32m     13\u001b[0m \u001b[0;34m\u001b[0m\u001b[0m\n\u001b[1;32m     14\u001b[0m \u001b[0;31m# Insert new rows into the table\u001b[0m\u001b[0;34m\u001b[0m\u001b[0;34m\u001b[0m\u001b[0;34m\u001b[0m\u001b[0m\n\u001b[0;32m---> 15\u001b[0;31m \u001b[0mcursor\u001b[0m\u001b[0;34m.\u001b[0m\u001b[0mexecute\u001b[0m\u001b[0;34m(\u001b[0m\u001b[0;34m\"INSERT INTO employee VALUES ('Rupert', 'Giles', 'CEO', 425000);\"\u001b[0m\u001b[0;34m)\u001b[0m\u001b[0;34m\u001b[0m\u001b[0;34m\u001b[0m\u001b[0m\n\u001b[0m\u001b[1;32m     16\u001b[0m \u001b[0mcursor\u001b[0m\u001b[0;34m.\u001b[0m\u001b[0mexecute\u001b[0m\u001b[0;34m(\u001b[0m\u001b[0;34m\"INSERT INTO employee VALUES ('Willow', 'Rosenberg', 'Data Scientist', 350000);\"\u001b[0m\u001b[0;34m)\u001b[0m\u001b[0;34m\u001b[0m\u001b[0;34m\u001b[0m\u001b[0m\n",
      "\u001b[0;31mOperationalError\u001b[0m: table employee has 5 columns but 4 values were supplied"
     ]
    }
   ],
   "source": [
    "# Drop an existing table\n",
    "cursor.execute('DROP TABLE IF EXISTS employee;')\n",
    "\n",
    "# Create a table\n",
    "cursor.execute(\"\"\"CREATE TABLE employee (\n",
    "        id            INTEGER  PRIMARY KEY,\n",
    "        first_name    TEXT,\n",
    "        last_name     TEXT,\n",
    "        title         TEXT,\n",
    "        salary        INTEGER\n",
    ");\"\"\")\n",
    "\n",
    "\n",
    "# Insert new rows into the table\n",
    "cursor.execute(\"INSERT INTO employee VALUES ('Rupert', 'Giles', 'CEO', 425000);\")\n",
    "cursor.execute(\"INSERT INTO employee VALUES ('Willow', 'Rosenberg', 'Data Scientist', 350000);\")"
   ]
  },
  {
   "cell_type": "markdown",
   "id": "9ea28ca5",
   "metadata": {},
   "source": [
    "Wait, what when wrong? The problem is that we need to include `NULL` as a placeholder when inserting new records in our table.\n",
    "\n",
    "Notice also how we can use a single `INSERT INTO` statement to add more than one row at a time to our table."
   ]
  },
  {
   "cell_type": "code",
   "execution_count": 19,
   "id": "87cdff9d",
   "metadata": {},
   "outputs": [
    {
     "data": {
      "text/plain": [
       "<sqlite3.Cursor at 0x7fd4858afb20>"
      ]
     },
     "execution_count": 19,
     "metadata": {},
     "output_type": "execute_result"
    }
   ],
   "source": [
    "# Drop an existing table\n",
    "cursor.execute('DROP TABLE IF EXISTS employee;')\n",
    "\n",
    "# Create a table\n",
    "cursor.execute(\"\"\"CREATE TABLE employee (\n",
    "        id            INTEGER  PRIMARY KEY,\n",
    "        first_name    TEXT,\n",
    "        last_name     TEXT,\n",
    "        title         TEXT,\n",
    "        salary        INTEGER\n",
    ");\"\"\")\n",
    "\n",
    "\n",
    "# Insert table rows\n",
    "cursor.execute(\"\"\"\n",
    "        INSERT INTO employee\n",
    "        VALUES\n",
    "          (NULL, 'Rupert', 'Giles', 'CEO', 425000),\n",
    "          (NULL, 'Willow', 'Rosenberg', 'Data Scientist', 350000);\n",
    "\"\"\")"
   ]
  },
  {
   "cell_type": "code",
   "execution_count": 20,
   "id": "81831845",
   "metadata": {},
   "outputs": [
    {
     "data": {
      "text/plain": [
       "[(1, 'Rupert', 'Giles', 'CEO', 425000),\n",
       " (2, 'Willow', 'Rosenberg', 'Data Scientist', 350000)]"
      ]
     },
     "execution_count": 20,
     "metadata": {},
     "output_type": "execute_result"
    }
   ],
   "source": [
    "# Print the table values\n",
    "cursor.execute('SELECT * FROM employee;').fetchall()"
   ]
  },
  {
   "cell_type": "markdown",
   "id": "3099076f",
   "metadata": {},
   "source": [
    "Another possible option is to define the fields you want to insert in your query and intentionally skip the autoincremented primary key field."
   ]
  },
  {
   "cell_type": "code",
   "execution_count": 21,
   "id": "8d8d37c6",
   "metadata": {},
   "outputs": [
    {
     "data": {
      "text/plain": [
       "<sqlite3.Cursor at 0x7fd4858afb20>"
      ]
     },
     "execution_count": 21,
     "metadata": {},
     "output_type": "execute_result"
    }
   ],
   "source": [
    "# Drop an existing table\n",
    "cursor.execute('DROP TABLE IF EXISTS employee;')\n",
    "\n",
    "# Create a table\n",
    "cursor.execute(\"\"\"CREATE TABLE employee (\n",
    "        id            INTEGER  PRIMARY KEY,\n",
    "        first_name    TEXT,\n",
    "        last_name     TEXT,\n",
    "        title         TEXT,\n",
    "        salary        INTEGER\n",
    ");\"\"\")\n",
    "\n",
    "\n",
    "# Insert table rows\n",
    "cursor.execute(\"\"\"\n",
    "        INSERT INTO employee (first_name, last_name, title, salary)\n",
    "        VALUES\n",
    "          ('Rupert', 'Giles', 'CEO', 425000),\n",
    "          ('Willow', 'Rosenberg', 'Data Scientist', 350000);\n",
    "\"\"\")"
   ]
  },
  {
   "cell_type": "code",
   "execution_count": 22,
   "id": "5fd129c4",
   "metadata": {},
   "outputs": [
    {
     "data": {
      "text/plain": [
       "[(1, 'Rupert', 'Giles', 'CEO', 425000),\n",
       " (2, 'Willow', 'Rosenberg', 'Data Scientist', 350000)]"
      ]
     },
     "execution_count": 22,
     "metadata": {},
     "output_type": "execute_result"
    }
   ],
   "source": [
    "# Print the table values\n",
    "cursor.execute('SELECT * FROM employee;').fetchall()"
   ]
  },
  {
   "cell_type": "markdown",
   "id": "2a0b9909",
   "metadata": {},
   "source": [
    "Another way to insert multiple rows into a table is by using the cursor object's `executemany()` method, which takes two parameters&mdash;a parameterized SQL statement and the data in a tuple.\n",
    "\n",
    "In addition, in this example notice how we are able to chain together the `execute()` and `fetchall()` methods. I've also purposely created two duplicate or nearly duplicate rows so that we can see how we can deal with them later on."
   ]
  },
  {
   "cell_type": "code",
   "execution_count": 23,
   "id": "4b4a1b61",
   "metadata": {},
   "outputs": [
    {
     "data": {
      "text/plain": [
       "[(1, 'Rupert', 'Giles', 'CEO', 425000),\n",
       " (2, 'Willow', 'Rosenberg', 'Data Scientist', 350000),\n",
       " (3, 'Anya', 'Jenkins', 'CFO', 380000),\n",
       " (4, 'Xander', 'Harris', 'Building Manager', 120500),\n",
       " (5, 'Buffy', 'Summers', 'Security Specialist', 240000),\n",
       " (6, 'Buffy', 'Summers', 'Security Specialist', 240000),\n",
       " (7, 'Cordelia', 'Chase', 'Receptionist', 72000),\n",
       " (8, 'Cordelia', 'Chase', 'Receptionist', 70000),\n",
       " (9, 'Jesse', 'McNally', 'Waste Management Trainee', 55000)]"
      ]
     },
     "execution_count": 23,
     "metadata": {},
     "output_type": "execute_result"
    }
   ],
   "source": [
    "# Store data in a list\n",
    "data = [\n",
    "    ('Anya', 'Jenkins', 'CFO', 380000),\n",
    "    ('Xander', 'Harris', 'Building Manager', 120500),\n",
    "    ('Buffy', 'Summers', 'Security Specialist', 240000),\n",
    "    ('Buffy', 'Summers', 'Security Specialist', 240000),\n",
    "    ('Cordelia', 'Chase', 'Receptionist', 72000),\n",
    "    ('Cordelia', 'Chase', 'Receptionist', 70000),\n",
    "    ('Jesse', 'McNally', 'Waste Management Trainee', 55000)\n",
    "]\n",
    "\n",
    "# Insert multiple rows into a table\n",
    "cursor.executemany('INSERT INTO employee (first_name, last_name, title, salary) VALUES(?, ?, ?, ?)', data)\n",
    "\n",
    "# Query and return all the data in the table\n",
    "cursor.execute(\"\"\"\n",
    "        SELECT *\n",
    "        FROM employee;\n",
    "\"\"\").fetchall()"
   ]
  },
  {
   "cell_type": "markdown",
   "id": "9b73aaa9",
   "metadata": {},
   "source": [
    "## ALTER TABLE\n",
    "\n",
    "We can use `ALTER TABLE` to add new columns to our table."
   ]
  },
  {
   "cell_type": "code",
   "execution_count": 24,
   "id": "837259e9",
   "metadata": {},
   "outputs": [
    {
     "data": {
      "text/plain": [
       "[(1, 'Rupert', 'Giles', 'CEO', 425000, None),\n",
       " (2, 'Willow', 'Rosenberg', 'Data Scientist', 350000, None),\n",
       " (3, 'Anya', 'Jenkins', 'CFO', 380000, None),\n",
       " (4, 'Xander', 'Harris', 'Building Manager', 120500, None),\n",
       " (5, 'Buffy', 'Summers', 'Security Specialist', 240000, None),\n",
       " (6, 'Buffy', 'Summers', 'Security Specialist', 240000, None),\n",
       " (7, 'Cordelia', 'Chase', 'Receptionist', 72000, None),\n",
       " (8, 'Cordelia', 'Chase', 'Receptionist', 70000, None),\n",
       " (9, 'Jesse', 'McNally', 'Waste Management Trainee', 55000, None)]"
      ]
     },
     "execution_count": 24,
     "metadata": {},
     "output_type": "execute_result"
    }
   ],
   "source": [
    "# Add a new column without a default value\n",
    "cursor.execute(\"\"\"\n",
    "        ALTER TABLE employee\n",
    "        ADD COLUMN manager INTEGER;\n",
    "\"\"\")\n",
    "\n",
    "# Query and return all the data in the table\n",
    "cursor.execute('SELECT * FROM employee').fetchall()"
   ]
  },
  {
   "cell_type": "markdown",
   "id": "1626ba05",
   "metadata": {},
   "source": [
    "Since we didn't set a default value when adding our new column, we can see that SQLite automatically populated the value with `None`. Unfortunately, SQLite only recently added support for dropping a column, so this functionality is not yet available with the `sqlite3` library. However, this helps to demonstrate why it is helpful to store and structure your schema in a reusable script.\n",
    "\n",
    "Let's recreate our table and also look at how use `INSERT INTO` to add multiple rows of data to our table in a single command."
   ]
  },
  {
   "cell_type": "code",
   "execution_count": 25,
   "id": "27f5280d",
   "metadata": {},
   "outputs": [
    {
     "data": {
      "text/plain": [
       "<sqlite3.Cursor at 0x7fd4858afb20>"
      ]
     },
     "execution_count": 25,
     "metadata": {},
     "output_type": "execute_result"
    }
   ],
   "source": [
    "# Drop the existing table\n",
    "cursor.execute('DROP TABLE IF EXISTS employee;')\n",
    "\n",
    "# Create a table schema\n",
    "cursor.execute(\"\"\"CREATE TABLE employee (\n",
    "        id            INTEGER  PRIMARY KEY,\n",
    "        first_name    TEXT     NOT NULL,\n",
    "        last_name     TEXT     NOT NULL,\n",
    "        title         TEXT     NOT NULL,\n",
    "        salary        INTEGER  NOT NULL\n",
    ");\"\"\")\n",
    "\n",
    "\n",
    "# Insert the table rows\n",
    "cursor.execute(\"INSERT INTO employee VALUES (NULL, 'Rupert', 'Giles', 'CEO', 425000);\")\n",
    "cursor.execute(\"INSERT INTO employee VALUES (NULL, 'Willow', 'Rosenberg', 'Data Scientist', 350000);\")\n",
    "cursor.execute(\"INSERT INTO employee VALUES (NULL, 'Anya', 'Jenkins', 'CFO', 380000);\")\n",
    "cursor.execute(\"INSERT INTO employee VALUES (NULL, 'Xander', 'Harris', 'Building Manager', 120500);\")\n",
    "cursor.execute(\"INSERT INTO employee VALUES (NULL, 'Buffy', 'Summers', 'Security Specialist', 240000);\")\n",
    "cursor.execute(\"INSERT INTO employee VALUES (NULL, 'Buffy', 'Summers', 'Security Specialist', 240000);\")\n",
    "cursor.execute(\"INSERT INTO employee VALUES (NULL, 'Cordelia', 'Chase', 'Receptionist', 72000);\")\n",
    "cursor.execute(\"INSERT INTO employee VALUES (NULL, 'Cordelia', 'Chase', 'Receptionist', 70000);\")\n",
    "cursor.execute(\"INSERT INTO employee VALUES (NULL, 'Jesse', 'McNally', 'Waste Management Trainee', 55000);\")"
   ]
  },
  {
   "cell_type": "code",
   "execution_count": 26,
   "id": "7feb95d2",
   "metadata": {
    "scrolled": true
   },
   "outputs": [
    {
     "data": {
      "text/plain": [
       "<sqlite3.Cursor at 0x7fd4858afb20>"
      ]
     },
     "execution_count": 26,
     "metadata": {},
     "output_type": "execute_result"
    }
   ],
   "source": [
    "# Drop the existing table\n",
    "cursor.execute('DROP TABLE IF EXISTS employee;')\n",
    "\n",
    "# Create a table schema\n",
    "cursor.execute(\"\"\"CREATE TABLE employee (\n",
    "        id            INTEGER  PRIMARY KEY,\n",
    "        first_name    TEXT     NOT NULL,\n",
    "        last_name     TEXT     NOT NULL,\n",
    "        title         TEXT     NOT NULL,\n",
    "        salary        INTEGER  NOT NULL\n",
    ");\"\"\")\n",
    "\n",
    "\n",
    "# Insert table rows\n",
    "cursor.execute(\"\"\"\n",
    "        INSERT INTO employee (id, first_name, last_name, title, salary)\n",
    "        VALUES\n",
    "          (NULL, 'Rupert', 'Giles', 'CEO', 425000),\n",
    "          (NULL, 'Willow', 'Rosenberg', 'Data Scientist', 350000),\n",
    "          (NULL, 'Anya', 'Jenkins', 'CFO', 380000),\n",
    "          (NULL, 'Xander', 'Harris', 'Building Manager', 120500),\n",
    "          (NULL, 'Buffy', 'Summers', 'Security Specialist', 240000),\n",
    "          (NULL, 'Buffy', 'Summers', 'Security Specialist', 240000),\n",
    "          (NULL, 'Cordelia', 'Chase', 'Receptionist', 72000),\n",
    "          (NULL, 'Cordelia', 'Chase', 'Receptionist', 70000),\n",
    "          (NULL, 'Jesse', 'McNally', 'Waste Management Trainee', 55000)\n",
    ";\"\"\")"
   ]
  },
  {
   "cell_type": "code",
   "execution_count": 27,
   "id": "e4f37426",
   "metadata": {},
   "outputs": [
    {
     "data": {
      "text/plain": [
       "[(1, 'Rupert', 'Giles', 'CEO', 425000),\n",
       " (2, 'Willow', 'Rosenberg', 'Data Scientist', 350000),\n",
       " (3, 'Anya', 'Jenkins', 'CFO', 380000),\n",
       " (4, 'Xander', 'Harris', 'Building Manager', 120500),\n",
       " (5, 'Buffy', 'Summers', 'Security Specialist', 240000),\n",
       " (6, 'Buffy', 'Summers', 'Security Specialist', 240000),\n",
       " (7, 'Cordelia', 'Chase', 'Receptionist', 72000),\n",
       " (8, 'Cordelia', 'Chase', 'Receptionist', 70000),\n",
       " (9, 'Jesse', 'McNally', 'Waste Management Trainee', 55000)]"
      ]
     },
     "execution_count": 27,
     "metadata": {},
     "output_type": "execute_result"
    }
   ],
   "source": [
    "# Query and return all the data in the table\n",
    "cursor.execute('SELECT * FROM employee').fetchall()"
   ]
  },
  {
   "cell_type": "markdown",
   "id": "5b171626",
   "metadata": {},
   "source": [
    "Now let's add the new column but set the default value to `0`. By doing this, the default value will be inserted for each existing row in our database and each time we add a new row to the table and do not include a value for it."
   ]
  },
  {
   "cell_type": "code",
   "execution_count": 28,
   "id": "1ffa8726",
   "metadata": {},
   "outputs": [
    {
     "data": {
      "text/plain": [
       "[(1, 'Rupert', 'Giles', 'CEO', 425000, '0'),\n",
       " (2, 'Willow', 'Rosenberg', 'Data Scientist', 350000, '0'),\n",
       " (3, 'Anya', 'Jenkins', 'CFO', 380000, '0'),\n",
       " (4, 'Xander', 'Harris', 'Building Manager', 120500, '0'),\n",
       " (5, 'Buffy', 'Summers', 'Security Specialist', 240000, '0'),\n",
       " (6, 'Buffy', 'Summers', 'Security Specialist', 240000, '0'),\n",
       " (7, 'Cordelia', 'Chase', 'Receptionist', 72000, '0'),\n",
       " (8, 'Cordelia', 'Chase', 'Receptionist', 70000, '0'),\n",
       " (9, 'Jesse', 'McNally', 'Waste Management Trainee', 55000, '0')]"
      ]
     },
     "execution_count": 28,
     "metadata": {},
     "output_type": "execute_result"
    }
   ],
   "source": [
    "# Add a new column with a default row value\n",
    "cursor.execute('ALTER TABLE employee ADD COLUMN manager TEXT DEFAULT 0;')\n",
    "\n",
    "# Query and return all the data in the table\n",
    "cursor.execute('SELECT * FROM employee').fetchall()"
   ]
  },
  {
   "cell_type": "markdown",
   "id": "8ec669c9",
   "metadata": {},
   "source": [
    "## UPDATE \n",
    "\n",
    "Here is how we can use the `UPDATE` clause to change values for specific rows in our table. (We'll soon look at the `WHERE` clause in much more detail.)"
   ]
  },
  {
   "cell_type": "code",
   "execution_count": 29,
   "id": "18c20413",
   "metadata": {},
   "outputs": [
    {
     "data": {
      "text/plain": [
       "[(1, 'Rupert', 'Giles', 'CEO', 425000, '1'),\n",
       " (2, 'Willow', 'Rosenberg', 'Data Scientist', 350000, '1'),\n",
       " (3, 'Anya', 'Jenkins', 'CFO', 380000, '1'),\n",
       " (4, 'Xander', 'Harris', 'Building Manager', 120500, '0'),\n",
       " (5, 'Buffy', 'Summers', 'Security Specialist', 240000, '1'),\n",
       " (6, 'Buffy', 'Summers', 'Security Specialist', 240000, '1'),\n",
       " (7, 'Cordelia', 'Chase', 'Receptionist', 72000, '0'),\n",
       " (8, 'Cordelia', 'Chase', 'Receptionist', 70000, '0'),\n",
       " (9, 'Jesse', 'McNally', 'Waste Management Trainee', 55000, '0')]"
      ]
     },
     "execution_count": 29,
     "metadata": {},
     "output_type": "execute_result"
    }
   ],
   "source": [
    "# Update the manager values\n",
    "cursor.execute(\"UPDATE employee SET manager = 1 WHERE last_name = 'Giles';\")\n",
    "cursor.execute(\"UPDATE employee SET manager = 1 WHERE last_name = 'Rosenberg';\")\n",
    "cursor.execute(\"UPDATE employee SET manager = 1 WHERE last_name = 'Jenkins';\")\n",
    "cursor.execute(\"UPDATE employee SET manager = 1 WHERE last_name = 'Summers';\")\n",
    "\n",
    "# Verify the values were changed\n",
    "cursor.execute('SELECT * FROM employee;').fetchall()"
   ]
  },
  {
   "cell_type": "markdown",
   "id": "cb219ee7",
   "metadata": {},
   "source": [
    "## DELETE\n",
    "\n",
    "Unfortunately, Jesse McNally, our new Waste Management trainee, didn't last a single day! Let's see how we can remove his row from our `employee` table."
   ]
  },
  {
   "cell_type": "code",
   "execution_count": 30,
   "id": "00775b12",
   "metadata": {
    "scrolled": true
   },
   "outputs": [
    {
     "data": {
      "text/plain": [
       "[(1, 'Rupert', 'Giles', 'CEO', 425000, '1'),\n",
       " (2, 'Willow', 'Rosenberg', 'Data Scientist', 350000, '1'),\n",
       " (3, 'Anya', 'Jenkins', 'CFO', 380000, '1'),\n",
       " (4, 'Xander', 'Harris', 'Building Manager', 120500, '0'),\n",
       " (5, 'Buffy', 'Summers', 'Security Specialist', 240000, '1'),\n",
       " (6, 'Buffy', 'Summers', 'Security Specialist', 240000, '1'),\n",
       " (7, 'Cordelia', 'Chase', 'Receptionist', 72000, '0'),\n",
       " (8, 'Cordelia', 'Chase', 'Receptionist', 70000, '0')]"
      ]
     },
     "execution_count": 30,
     "metadata": {},
     "output_type": "execute_result"
    }
   ],
   "source": [
    "# Execute the SQL statement\n",
    "cursor.execute(\"DELETE FROM employee WHERE first_name = 'Jesse'\")\n",
    "\n",
    "# Verify that the row was removed\n",
    "cursor.execute('SELECT * FROM employee').fetchall()"
   ]
  },
  {
   "cell_type": "markdown",
   "id": "068f959e",
   "metadata": {},
   "source": [
    "# SQL Queries\n",
    "\n",
    "Most often, data analysts will not need to create and upload data to a new database. You'll likely find that the majority of your work will involve using SQL to query your data. Queries are SQL statements we construct to retrieve data from our database.\n",
    "\n",
    "# SELECT\n",
    "\n",
    "SQL queries will always start with the `SELECT`, followed by the name of the columns you want to include in your result set. The result set is only a temporary table, so it's important to keep in mind that our queries aren't modifying or changing any of the underlying data in our database. \n",
    "\n",
    "# FROM\n",
    "\n",
    "After `SELECT`, the next clause we need to specify is `FROM`, which tells SQL which table in our database to query the data from. "
   ]
  },
  {
   "cell_type": "code",
   "execution_count": 31,
   "id": "e2033d0f",
   "metadata": {},
   "outputs": [
    {
     "data": {
      "text/plain": [
       "[(1, 'Rupert', 'Giles', 'CEO', 425000, '1'),\n",
       " (2, 'Willow', 'Rosenberg', 'Data Scientist', 350000, '1'),\n",
       " (3, 'Anya', 'Jenkins', 'CFO', 380000, '1'),\n",
       " (4, 'Xander', 'Harris', 'Building Manager', 120500, '0'),\n",
       " (5, 'Buffy', 'Summers', 'Security Specialist', 240000, '1'),\n",
       " (6, 'Buffy', 'Summers', 'Security Specialist', 240000, '1'),\n",
       " (7, 'Cordelia', 'Chase', 'Receptionist', 72000, '0'),\n",
       " (8, 'Cordelia', 'Chase', 'Receptionist', 70000, '0')]"
      ]
     },
     "execution_count": 31,
     "metadata": {},
     "output_type": "execute_result"
    }
   ],
   "source": [
    "# Query and return all table columns\n",
    "cursor.execute(\"\"\"\n",
    "        SELECT id, first_name, last_name, title, salary, manager\n",
    "        FROM employee;\n",
    "\"\"\").fetchall()"
   ]
  },
  {
   "cell_type": "markdown",
   "id": "55e0021f",
   "metadata": {},
   "source": [
    "**SELECT all columns**\n",
    "\n",
    "Rather than type out all of the column names in our table, we can pass in the special `*` character. `SELECT *` will select all the columns from all the referenced tables (or subqueries) in the `FROM` clause."
   ]
  },
  {
   "cell_type": "code",
   "execution_count": 32,
   "id": "92d5b142",
   "metadata": {
    "scrolled": true
   },
   "outputs": [
    {
     "data": {
      "text/plain": [
       "[(1, 'Rupert', 'Giles', 'CEO', 425000, '1'),\n",
       " (2, 'Willow', 'Rosenberg', 'Data Scientist', 350000, '1'),\n",
       " (3, 'Anya', 'Jenkins', 'CFO', 380000, '1'),\n",
       " (4, 'Xander', 'Harris', 'Building Manager', 120500, '0'),\n",
       " (5, 'Buffy', 'Summers', 'Security Specialist', 240000, '1'),\n",
       " (6, 'Buffy', 'Summers', 'Security Specialist', 240000, '1'),\n",
       " (7, 'Cordelia', 'Chase', 'Receptionist', 72000, '0'),\n",
       " (8, 'Cordelia', 'Chase', 'Receptionist', 70000, '0')]"
      ]
     },
     "execution_count": 32,
     "metadata": {},
     "output_type": "execute_result"
    }
   ],
   "source": [
    "# Query and return all table columns\n",
    "cursor.execute(\"\"\"\n",
    "        SELECT *\n",
    "        FROM employee;\n",
    "\"\"\").fetchall()"
   ]
  },
  {
   "cell_type": "markdown",
   "id": "e216cc1d",
   "metadata": {},
   "source": [
    "**Subset Columns**\n",
    "\n",
    "If we don't want to return all of the columns in our table, we can specify exactly which ones we'd like returned in our `SELECT` statement."
   ]
  },
  {
   "cell_type": "code",
   "execution_count": 33,
   "id": "f2bd2ac9",
   "metadata": {},
   "outputs": [
    {
     "data": {
      "text/plain": [
       "[('Giles', 'Rupert', 425000),\n",
       " ('Rosenberg', 'Willow', 350000),\n",
       " ('Jenkins', 'Anya', 380000),\n",
       " ('Harris', 'Xander', 120500),\n",
       " ('Summers', 'Buffy', 240000),\n",
       " ('Summers', 'Buffy', 240000),\n",
       " ('Chase', 'Cordelia', 72000),\n",
       " ('Chase', 'Cordelia', 70000)]"
      ]
     },
     "execution_count": 33,
     "metadata": {},
     "output_type": "execute_result"
    }
   ],
   "source": [
    "# Query and return a subset of the table columns\n",
    "cursor.execute(\"\"\"\n",
    "        SELECT last_name, first_name, salary\n",
    "        FROM employee;\n",
    "\"\"\").fetchall()"
   ]
  },
  {
   "cell_type": "markdown",
   "id": "95e3946c",
   "metadata": {},
   "source": [
    "# Pandas Library\n",
    "\n",
    "While the `sqlite3` module is conveniently included as part of the Python standard library, we are also able to use the pandas library.\n",
    "\n",
    "One option that can make it easier to work with your query results is to save it directly into a pandas DataFrame."
   ]
  },
  {
   "cell_type": "code",
   "execution_count": 34,
   "id": "29cf0205",
   "metadata": {
    "scrolled": true
   },
   "outputs": [
    {
     "data": {
      "text/html": [
       "<div>\n",
       "<style scoped>\n",
       "    .dataframe tbody tr th:only-of-type {\n",
       "        vertical-align: middle;\n",
       "    }\n",
       "\n",
       "    .dataframe tbody tr th {\n",
       "        vertical-align: top;\n",
       "    }\n",
       "\n",
       "    .dataframe thead th {\n",
       "        text-align: right;\n",
       "    }\n",
       "</style>\n",
       "<table border=\"1\" class=\"dataframe\">\n",
       "  <thead>\n",
       "    <tr style=\"text-align: right;\">\n",
       "      <th></th>\n",
       "      <th>id</th>\n",
       "      <th>first_name</th>\n",
       "      <th>last_name</th>\n",
       "      <th>title</th>\n",
       "      <th>salary</th>\n",
       "      <th>manager</th>\n",
       "    </tr>\n",
       "  </thead>\n",
       "  <tbody>\n",
       "    <tr>\n",
       "      <th>0</th>\n",
       "      <td>1</td>\n",
       "      <td>Rupert</td>\n",
       "      <td>Giles</td>\n",
       "      <td>CEO</td>\n",
       "      <td>425000</td>\n",
       "      <td>1</td>\n",
       "    </tr>\n",
       "    <tr>\n",
       "      <th>1</th>\n",
       "      <td>2</td>\n",
       "      <td>Willow</td>\n",
       "      <td>Rosenberg</td>\n",
       "      <td>Data Scientist</td>\n",
       "      <td>350000</td>\n",
       "      <td>1</td>\n",
       "    </tr>\n",
       "    <tr>\n",
       "      <th>2</th>\n",
       "      <td>3</td>\n",
       "      <td>Anya</td>\n",
       "      <td>Jenkins</td>\n",
       "      <td>CFO</td>\n",
       "      <td>380000</td>\n",
       "      <td>1</td>\n",
       "    </tr>\n",
       "    <tr>\n",
       "      <th>3</th>\n",
       "      <td>4</td>\n",
       "      <td>Xander</td>\n",
       "      <td>Harris</td>\n",
       "      <td>Building Manager</td>\n",
       "      <td>120500</td>\n",
       "      <td>0</td>\n",
       "    </tr>\n",
       "    <tr>\n",
       "      <th>4</th>\n",
       "      <td>5</td>\n",
       "      <td>Buffy</td>\n",
       "      <td>Summers</td>\n",
       "      <td>Security Specialist</td>\n",
       "      <td>240000</td>\n",
       "      <td>1</td>\n",
       "    </tr>\n",
       "  </tbody>\n",
       "</table>\n",
       "</div>"
      ],
      "text/plain": [
       "   id first_name  last_name                title  salary manager\n",
       "0   1     Rupert      Giles                  CEO  425000       1\n",
       "1   2     Willow  Rosenberg       Data Scientist  350000       1\n",
       "2   3       Anya    Jenkins                  CFO  380000       1\n",
       "3   4     Xander     Harris     Building Manager  120500       0\n",
       "4   5      Buffy    Summers  Security Specialist  240000       1"
      ]
     },
     "execution_count": 34,
     "metadata": {},
     "output_type": "execute_result"
    }
   ],
   "source": [
    "# Query all rows in the table\n",
    "cursor.execute('SELECT * FROM employee')\n",
    "\n",
    "# Store the query results in a pandas dataframe\n",
    "df = pd.DataFrame(cursor.fetchall())\n",
    "\n",
    "# Save the column names\n",
    "df.columns = [i[0] for i in cursor.description]\n",
    "\n",
    "# Print the first 5 rows\n",
    "df.head()"
   ]
  },
  {
   "cell_type": "markdown",
   "id": "2e9c4aa4",
   "metadata": {},
   "source": [
    "However, pandas also includes the `read_sql()` method to store our query results directly in a DataFrame! First, we pass in the SQL query, and then the connection object we created earlier when we first connected to our database.\n",
    "\n",
    "Pandas `pandas.read_sql` [documentation](https://pandas.pydata.org/docs/reference/api/pandas.read_sql.html)"
   ]
  },
  {
   "cell_type": "code",
   "execution_count": 35,
   "id": "25f9fde4",
   "metadata": {
    "scrolled": false
   },
   "outputs": [
    {
     "data": {
      "text/html": [
       "<div>\n",
       "<style scoped>\n",
       "    .dataframe tbody tr th:only-of-type {\n",
       "        vertical-align: middle;\n",
       "    }\n",
       "\n",
       "    .dataframe tbody tr th {\n",
       "        vertical-align: top;\n",
       "    }\n",
       "\n",
       "    .dataframe thead th {\n",
       "        text-align: right;\n",
       "    }\n",
       "</style>\n",
       "<table border=\"1\" class=\"dataframe\">\n",
       "  <thead>\n",
       "    <tr style=\"text-align: right;\">\n",
       "      <th></th>\n",
       "      <th>id</th>\n",
       "      <th>first_name</th>\n",
       "      <th>last_name</th>\n",
       "      <th>title</th>\n",
       "      <th>salary</th>\n",
       "      <th>manager</th>\n",
       "    </tr>\n",
       "  </thead>\n",
       "  <tbody>\n",
       "    <tr>\n",
       "      <th>0</th>\n",
       "      <td>1</td>\n",
       "      <td>Rupert</td>\n",
       "      <td>Giles</td>\n",
       "      <td>CEO</td>\n",
       "      <td>425000</td>\n",
       "      <td>1</td>\n",
       "    </tr>\n",
       "    <tr>\n",
       "      <th>1</th>\n",
       "      <td>2</td>\n",
       "      <td>Willow</td>\n",
       "      <td>Rosenberg</td>\n",
       "      <td>Data Scientist</td>\n",
       "      <td>350000</td>\n",
       "      <td>1</td>\n",
       "    </tr>\n",
       "    <tr>\n",
       "      <th>2</th>\n",
       "      <td>3</td>\n",
       "      <td>Anya</td>\n",
       "      <td>Jenkins</td>\n",
       "      <td>CFO</td>\n",
       "      <td>380000</td>\n",
       "      <td>1</td>\n",
       "    </tr>\n",
       "    <tr>\n",
       "      <th>3</th>\n",
       "      <td>4</td>\n",
       "      <td>Xander</td>\n",
       "      <td>Harris</td>\n",
       "      <td>Building Manager</td>\n",
       "      <td>120500</td>\n",
       "      <td>0</td>\n",
       "    </tr>\n",
       "    <tr>\n",
       "      <th>4</th>\n",
       "      <td>5</td>\n",
       "      <td>Buffy</td>\n",
       "      <td>Summers</td>\n",
       "      <td>Security Specialist</td>\n",
       "      <td>240000</td>\n",
       "      <td>1</td>\n",
       "    </tr>\n",
       "  </tbody>\n",
       "</table>\n",
       "</div>"
      ],
      "text/plain": [
       "   id first_name  last_name                title  salary manager\n",
       "0   1     Rupert      Giles                  CEO  425000       1\n",
       "1   2     Willow  Rosenberg       Data Scientist  350000       1\n",
       "2   3       Anya    Jenkins                  CFO  380000       1\n",
       "3   4     Xander     Harris     Building Manager  120500       0\n",
       "4   5      Buffy    Summers  Security Specialist  240000       1"
      ]
     },
     "execution_count": 35,
     "metadata": {},
     "output_type": "execute_result"
    }
   ],
   "source": [
    "# Save all the data from the `employee` table\n",
    "df = pd.read_sql('SELECT * FROM employee;', con=conn)\n",
    "# df = pd.read_sql('SELECT * FROM employee;', conn)\n",
    "\n",
    "# Print the dataframe\n",
    "df.head()"
   ]
  },
  {
   "cell_type": "markdown",
   "id": "b8cc7f9b",
   "metadata": {},
   "source": [
    "Rather than passing in our SQL query directly to the `read_sql()` method, it can often be more convenient to first save it in a separate variable."
   ]
  },
  {
   "cell_type": "code",
   "execution_count": 36,
   "id": "248ea94b",
   "metadata": {
    "scrolled": true
   },
   "outputs": [
    {
     "data": {
      "text/html": [
       "<div>\n",
       "<style scoped>\n",
       "    .dataframe tbody tr th:only-of-type {\n",
       "        vertical-align: middle;\n",
       "    }\n",
       "\n",
       "    .dataframe tbody tr th {\n",
       "        vertical-align: top;\n",
       "    }\n",
       "\n",
       "    .dataframe thead th {\n",
       "        text-align: right;\n",
       "    }\n",
       "</style>\n",
       "<table border=\"1\" class=\"dataframe\">\n",
       "  <thead>\n",
       "    <tr style=\"text-align: right;\">\n",
       "      <th></th>\n",
       "      <th>id</th>\n",
       "      <th>first_name</th>\n",
       "      <th>last_name</th>\n",
       "      <th>title</th>\n",
       "      <th>salary</th>\n",
       "      <th>manager</th>\n",
       "    </tr>\n",
       "  </thead>\n",
       "  <tbody>\n",
       "    <tr>\n",
       "      <th>0</th>\n",
       "      <td>1</td>\n",
       "      <td>Rupert</td>\n",
       "      <td>Giles</td>\n",
       "      <td>CEO</td>\n",
       "      <td>425000</td>\n",
       "      <td>1</td>\n",
       "    </tr>\n",
       "    <tr>\n",
       "      <th>1</th>\n",
       "      <td>2</td>\n",
       "      <td>Willow</td>\n",
       "      <td>Rosenberg</td>\n",
       "      <td>Data Scientist</td>\n",
       "      <td>350000</td>\n",
       "      <td>1</td>\n",
       "    </tr>\n",
       "    <tr>\n",
       "      <th>2</th>\n",
       "      <td>3</td>\n",
       "      <td>Anya</td>\n",
       "      <td>Jenkins</td>\n",
       "      <td>CFO</td>\n",
       "      <td>380000</td>\n",
       "      <td>1</td>\n",
       "    </tr>\n",
       "    <tr>\n",
       "      <th>3</th>\n",
       "      <td>4</td>\n",
       "      <td>Xander</td>\n",
       "      <td>Harris</td>\n",
       "      <td>Building Manager</td>\n",
       "      <td>120500</td>\n",
       "      <td>0</td>\n",
       "    </tr>\n",
       "    <tr>\n",
       "      <th>4</th>\n",
       "      <td>5</td>\n",
       "      <td>Buffy</td>\n",
       "      <td>Summers</td>\n",
       "      <td>Security Specialist</td>\n",
       "      <td>240000</td>\n",
       "      <td>1</td>\n",
       "    </tr>\n",
       "  </tbody>\n",
       "</table>\n",
       "</div>"
      ],
      "text/plain": [
       "   id first_name  last_name                title  salary manager\n",
       "0   1     Rupert      Giles                  CEO  425000       1\n",
       "1   2     Willow  Rosenberg       Data Scientist  350000       1\n",
       "2   3       Anya    Jenkins                  CFO  380000       1\n",
       "3   4     Xander     Harris     Building Manager  120500       0\n",
       "4   5      Buffy    Summers  Security Specialist  240000       1"
      ]
     },
     "execution_count": 36,
     "metadata": {},
     "output_type": "execute_result"
    }
   ],
   "source": [
    "# Save the query as a string\n",
    "query = '''SELECT *\n",
    "            FROM employee;'''\n",
    "\n",
    "# query = \"\"\"SELECT *\n",
    "#            FROM employee;\"\"\"\n",
    "\n",
    "# Save the query as a pandas datafame\n",
    "df = pd.read_sql(query, con=conn)\n",
    "\n",
    "# Print the dataframe\n",
    "df.head()"
   ]
  },
  {
   "cell_type": "markdown",
   "id": "5e0d8f80",
   "metadata": {},
   "source": [
    "# LIMIT Clause\n",
    "\n",
    "If you are querying a large database, using `SELECT *` can be very computationally expensive and it's often not that helpful to print out a large number of rows. Instead, one option is to add a `LIMIT` clause to your query. For example, here we are tell SQL to return only the first five rows of our table. (*Please note: the LIMIT clause should also be added at the very end of your query*)"
   ]
  },
  {
   "cell_type": "code",
   "execution_count": 37,
   "id": "f76c380b",
   "metadata": {},
   "outputs": [
    {
     "data": {
      "text/html": [
       "<div>\n",
       "<style scoped>\n",
       "    .dataframe tbody tr th:only-of-type {\n",
       "        vertical-align: middle;\n",
       "    }\n",
       "\n",
       "    .dataframe tbody tr th {\n",
       "        vertical-align: top;\n",
       "    }\n",
       "\n",
       "    .dataframe thead th {\n",
       "        text-align: right;\n",
       "    }\n",
       "</style>\n",
       "<table border=\"1\" class=\"dataframe\">\n",
       "  <thead>\n",
       "    <tr style=\"text-align: right;\">\n",
       "      <th></th>\n",
       "      <th>id</th>\n",
       "      <th>first_name</th>\n",
       "      <th>last_name</th>\n",
       "      <th>title</th>\n",
       "      <th>salary</th>\n",
       "      <th>manager</th>\n",
       "    </tr>\n",
       "  </thead>\n",
       "  <tbody>\n",
       "    <tr>\n",
       "      <th>0</th>\n",
       "      <td>1</td>\n",
       "      <td>Rupert</td>\n",
       "      <td>Giles</td>\n",
       "      <td>CEO</td>\n",
       "      <td>425000</td>\n",
       "      <td>1</td>\n",
       "    </tr>\n",
       "    <tr>\n",
       "      <th>1</th>\n",
       "      <td>2</td>\n",
       "      <td>Willow</td>\n",
       "      <td>Rosenberg</td>\n",
       "      <td>Data Scientist</td>\n",
       "      <td>350000</td>\n",
       "      <td>1</td>\n",
       "    </tr>\n",
       "    <tr>\n",
       "      <th>2</th>\n",
       "      <td>3</td>\n",
       "      <td>Anya</td>\n",
       "      <td>Jenkins</td>\n",
       "      <td>CFO</td>\n",
       "      <td>380000</td>\n",
       "      <td>1</td>\n",
       "    </tr>\n",
       "    <tr>\n",
       "      <th>3</th>\n",
       "      <td>4</td>\n",
       "      <td>Xander</td>\n",
       "      <td>Harris</td>\n",
       "      <td>Building Manager</td>\n",
       "      <td>120500</td>\n",
       "      <td>0</td>\n",
       "    </tr>\n",
       "    <tr>\n",
       "      <th>4</th>\n",
       "      <td>5</td>\n",
       "      <td>Buffy</td>\n",
       "      <td>Summers</td>\n",
       "      <td>Security Specialist</td>\n",
       "      <td>240000</td>\n",
       "      <td>1</td>\n",
       "    </tr>\n",
       "  </tbody>\n",
       "</table>\n",
       "</div>"
      ],
      "text/plain": [
       "   id first_name  last_name                title  salary manager\n",
       "0   1     Rupert      Giles                  CEO  425000       1\n",
       "1   2     Willow  Rosenberg       Data Scientist  350000       1\n",
       "2   3       Anya    Jenkins                  CFO  380000       1\n",
       "3   4     Xander     Harris     Building Manager  120500       0\n",
       "4   5      Buffy    Summers  Security Specialist  240000       1"
      ]
     },
     "execution_count": 37,
     "metadata": {},
     "output_type": "execute_result"
    }
   ],
   "source": [
    "# Query and return all table columns\n",
    "pd.read_sql(\"\"\"\n",
    "        SELECT * \n",
    "        FROM employee\n",
    "        LIMIT 5;\n",
    "\"\"\", conn)"
   ]
  },
  {
   "cell_type": "markdown",
   "id": "3361432d",
   "metadata": {},
   "source": [
    "The `LIMIT` clause can accept one or two arguments. The `offset` parameter specifies the offset of the first row to return. The offset of the first row is 0, not 1. (The square brackets around `offset` are only intended to show that this parameter is optional.)\n",
    "\n",
    "The `row_count` parameter specifies the maximum number of rows to return. It is mandatory, so when you use the `LIMIT` clause with only one argument, it will be used to determine the maximum number of rows to return from the first row of the result set.\n",
    "\n",
    "The optional `offset` parameter specifies the offset of the first row to return, and if you do not pass in a value for this parameter it will be zero by default. Therefore, passing in `LIMIT 1` or `LIMIT 0, 1` will return the same results. (The values of both arguments must be zero or positive integers.)\n",
    "\n",
    "```\n",
    "SELECT column1, column2, …\n",
    "FROM table_name\n",
    "LIMIT [offset,] row_count;\n",
    "```"
   ]
  },
  {
   "cell_type": "code",
   "execution_count": 38,
   "id": "5b6b6c5a",
   "metadata": {},
   "outputs": [
    {
     "data": {
      "text/plain": [
       "[(1, 'Rupert', 'Giles', 'CEO', 425000, '1')]"
      ]
     },
     "execution_count": 38,
     "metadata": {},
     "output_type": "execute_result"
    }
   ],
   "source": [
    "# Query and return only the first row\n",
    "cursor.execute(\"\"\"\n",
    "        SELECT *\n",
    "        FROM employee\n",
    "        LIMIT 0, 1;\n",
    "\"\"\").fetchall()"
   ]
  },
  {
   "cell_type": "code",
   "execution_count": 39,
   "id": "5b7b7b16",
   "metadata": {},
   "outputs": [
    {
     "data": {
      "text/plain": [
       "[(1, 'Rupert', 'Giles', 'CEO', 425000, '1')]"
      ]
     },
     "execution_count": 39,
     "metadata": {},
     "output_type": "execute_result"
    }
   ],
   "source": [
    "# Query and return only the first row\n",
    "cursor.execute(\"\"\"\n",
    "        SELECT *\n",
    "        FROM employee\n",
    "        LIMIT 1;\n",
    "\"\"\").fetchall()"
   ]
  },
  {
   "cell_type": "markdown",
   "id": "2897056a",
   "metadata": {},
   "source": [
    "Here, we will offset the results by 1 row and then return the next 2 rows, so our query returns the second and third rows in our table."
   ]
  },
  {
   "cell_type": "code",
   "execution_count": 40,
   "id": "d609b1d3",
   "metadata": {},
   "outputs": [
    {
     "data": {
      "text/plain": [
       "[(2, 'Willow', 'Rosenberg', 'Data Scientist', 350000, '1'),\n",
       " (3, 'Anya', 'Jenkins', 'CFO', 380000, '1')]"
      ]
     },
     "execution_count": 40,
     "metadata": {},
     "output_type": "execute_result"
    }
   ],
   "source": [
    "# Return rows 2 and 3\n",
    "cursor.execute(\"\"\"\n",
    "        SELECT *\n",
    "        FROM employee\n",
    "        LIMIT 1, 2;\n",
    "\"\"\").fetchall()"
   ]
  },
  {
   "cell_type": "markdown",
   "id": "cd9e54ec",
   "metadata": {},
   "source": [
    "# ORDER BY\n",
    "\n",
    "We can use `ORDER BY` to sort the results of our queries. By default, it will sort the text alphabetically, like we see here. However, we can reverse the order by adding the optional `DESC` keyword."
   ]
  },
  {
   "cell_type": "code",
   "execution_count": 41,
   "id": "814748bb",
   "metadata": {
    "scrolled": false
   },
   "outputs": [
    {
     "data": {
      "text/plain": [
       "[('Cordelia', 'Chase'),\n",
       " ('Cordelia', 'Chase'),\n",
       " ('Rupert', 'Giles'),\n",
       " ('Xander', 'Harris'),\n",
       " ('Anya', 'Jenkins'),\n",
       " ('Willow', 'Rosenberg'),\n",
       " ('Buffy', 'Summers'),\n",
       " ('Buffy', 'Summers')]"
      ]
     },
     "execution_count": 41,
     "metadata": {},
     "output_type": "execute_result"
    }
   ],
   "source": [
    "# Select and order by the `last_name` column (ascending)\n",
    "cursor.execute(\"\"\"\n",
    "        SELECT first_name, last_name\n",
    "        FROM employee\n",
    "        ORDER BY last_name;\n",
    "\"\"\").fetchall()"
   ]
  },
  {
   "cell_type": "code",
   "execution_count": 42,
   "id": "39e9aab4",
   "metadata": {},
   "outputs": [
    {
     "data": {
      "text/plain": [
       "[('Buffy', 'Summers'),\n",
       " ('Buffy', 'Summers'),\n",
       " ('Willow', 'Rosenberg'),\n",
       " ('Anya', 'Jenkins'),\n",
       " ('Xander', 'Harris'),\n",
       " ('Rupert', 'Giles'),\n",
       " ('Cordelia', 'Chase'),\n",
       " ('Cordelia', 'Chase')]"
      ]
     },
     "execution_count": 42,
     "metadata": {},
     "output_type": "execute_result"
    }
   ],
   "source": [
    "# Select and order by the `last_name` column (descending)\n",
    "cursor.execute(\"\"\"\n",
    "        SELECT first_name, last_name\n",
    "        FROM employee\n",
    "        ORDER BY last_name DESC;\n",
    "\"\"\").fetchall()"
   ]
  },
  {
   "cell_type": "markdown",
   "id": "fcfe85a5",
   "metadata": {},
   "source": [
    "When using `ORDER BY` on a numerical column it will sort the values from lowest to highest by default."
   ]
  },
  {
   "cell_type": "code",
   "execution_count": 43,
   "id": "030b8dc0",
   "metadata": {},
   "outputs": [
    {
     "data": {
      "text/plain": [
       "[('Cordelia', 'Chase', 70000),\n",
       " ('Cordelia', 'Chase', 72000),\n",
       " ('Xander', 'Harris', 120500),\n",
       " ('Buffy', 'Summers', 240000),\n",
       " ('Buffy', 'Summers', 240000),\n",
       " ('Willow', 'Rosenberg', 350000),\n",
       " ('Anya', 'Jenkins', 380000),\n",
       " ('Rupert', 'Giles', 425000)]"
      ]
     },
     "execution_count": 43,
     "metadata": {},
     "output_type": "execute_result"
    }
   ],
   "source": [
    "# Select and order by the `salary` column (ascending)\n",
    "cursor.execute(\"\"\"\n",
    "        SELECT first_name, last_name, salary\n",
    "        FROM employee\n",
    "        ORDER BY salary;\n",
    "\"\"\").fetchall()"
   ]
  },
  {
   "cell_type": "code",
   "execution_count": 44,
   "id": "d9091e32",
   "metadata": {},
   "outputs": [
    {
     "data": {
      "text/plain": [
       "[('Rupert', 'Giles', 425000),\n",
       " ('Anya', 'Jenkins', 380000),\n",
       " ('Willow', 'Rosenberg', 350000),\n",
       " ('Buffy', 'Summers', 240000),\n",
       " ('Buffy', 'Summers', 240000),\n",
       " ('Xander', 'Harris', 120500),\n",
       " ('Cordelia', 'Chase', 72000),\n",
       " ('Cordelia', 'Chase', 70000)]"
      ]
     },
     "execution_count": 44,
     "metadata": {},
     "output_type": "execute_result"
    }
   ],
   "source": [
    "# Select and order by the `salary` column (descending)\n",
    "cursor.execute(\"\"\"\n",
    "        SELECT first_name, last_name, salary\n",
    "        FROM employee\n",
    "        ORDER BY salary DESC;\n",
    "\"\"\").fetchall()"
   ]
  },
  {
   "cell_type": "markdown",
   "id": "0706f74a",
   "metadata": {},
   "source": [
    "# SELECT DISTINCT\n",
    "\n",
    "`SELECT DISTINCT` will only return the unique values in the specified column(s). For example, remember that our dataset set contains two duplicate or nearly duplicate rows. "
   ]
  },
  {
   "cell_type": "code",
   "execution_count": 45,
   "id": "bfbee2af",
   "metadata": {},
   "outputs": [
    {
     "data": {
      "text/plain": [
       "[(5, 'Buffy', 'Summers', 'Security Specialist', 240000, '1'),\n",
       " (6, 'Buffy', 'Summers', 'Security Specialist', 240000, '1'),\n",
       " (7, 'Cordelia', 'Chase', 'Receptionist', 72000, '0'),\n",
       " (8, 'Cordelia', 'Chase', 'Receptionist', 70000, '0')]"
      ]
     },
     "execution_count": 45,
     "metadata": {},
     "output_type": "execute_result"
    }
   ],
   "source": [
    "# Print the duplicate rows for reference\n",
    "cursor.execute(\"\"\"\n",
    "        SELECT *\n",
    "        FROM employee\n",
    "        WHERE last_name = 'Summers' OR last_name = 'Chase';\n",
    "\"\"\").fetchall()"
   ]
  },
  {
   "cell_type": "markdown",
   "id": "34ea7b6b",
   "metadata": {},
   "source": [
    "The following only removes rows that are exact duplicates."
   ]
  },
  {
   "cell_type": "code",
   "execution_count": 46,
   "id": "30ecd958",
   "metadata": {},
   "outputs": [
    {
     "data": {
      "text/plain": [
       "[('Cordelia', 'Chase', 'Receptionist', 72000),\n",
       " ('Cordelia', 'Chase', 'Receptionist', 70000),\n",
       " ('Rupert', 'Giles', 'CEO', 425000),\n",
       " ('Xander', 'Harris', 'Building Manager', 120500),\n",
       " ('Anya', 'Jenkins', 'CFO', 380000),\n",
       " ('Willow', 'Rosenberg', 'Data Scientist', 350000),\n",
       " ('Buffy', 'Summers', 'Security Specialist', 240000)]"
      ]
     },
     "execution_count": 46,
     "metadata": {},
     "output_type": "execute_result"
    }
   ],
   "source": [
    "# Remove any duplicate rows from our search results\n",
    "cursor.execute(\"\"\"\n",
    "        SELECT DISTINCT first_name, last_name, title, salary\n",
    "        FROM employee\n",
    "        ORDER BY last_name;\n",
    "\"\"\").fetchall()"
   ]
  },
  {
   "cell_type": "markdown",
   "id": "e78acbed",
   "metadata": {},
   "source": [
    "Since `SELECT DISTINCT` will only consider the columns that are passed to it, we can remove the duplicate rows for Buffy Summers and Cordelia Chase by only including the `first_name` and `last_name` columns."
   ]
  },
  {
   "cell_type": "code",
   "execution_count": 47,
   "id": "1cdf28c3",
   "metadata": {},
   "outputs": [
    {
     "data": {
      "text/plain": [
       "[('Buffy', 'Summers'),\n",
       " ('Willow', 'Rosenberg'),\n",
       " ('Anya', 'Jenkins'),\n",
       " ('Xander', 'Harris'),\n",
       " ('Rupert', 'Giles'),\n",
       " ('Cordelia', 'Chase')]"
      ]
     },
     "execution_count": 47,
     "metadata": {},
     "output_type": "execute_result"
    }
   ],
   "source": [
    "# SELECT and ORDER BY the unique `first_name` and `last_name` values\n",
    "cursor.execute(\"\"\"\n",
    "        SELECT DISTINCT first_name, last_name\n",
    "        FROM employee\n",
    "        ORDER BY last_name DESC;\n",
    "\"\"\").fetchall()"
   ]
  },
  {
   "cell_type": "markdown",
   "id": "b728e0d2",
   "metadata": {},
   "source": [
    "# GROUP BY \n",
    "\n",
    "The optional `GROUP BY` clause allows us to group our rows by using the column values or expressions, returning one row for each group. For each group, we can apply an aggregate function, such as `SUM` or `COUNT`, that we will learn more about later. It will return only one row for each group.\n",
    "\n",
    "The `GROUP BY` clause must follow the `FROM` (and any `WHERE` clauses). We can pass it a single column, like in this first example, or multiple columns or expressions, that we want to use as criteria to group our rows.\n",
    "\n",
    "In this example, we've grouped the rows by the `last_name` field, so notice that it gives us the same results as when we use the second query using `SELECT DISTINCT`. "
   ]
  },
  {
   "cell_type": "code",
   "execution_count": 48,
   "id": "b23c33c5",
   "metadata": {},
   "outputs": [
    {
     "data": {
      "text/plain": [
       "[('Chase',),\n",
       " ('Giles',),\n",
       " ('Harris',),\n",
       " ('Jenkins',),\n",
       " ('Rosenberg',),\n",
       " ('Summers',)]"
      ]
     },
     "execution_count": 48,
     "metadata": {},
     "output_type": "execute_result"
    }
   ],
   "source": [
    "# Group the rows by the `last_name` field\n",
    "cursor.execute(\"\"\"\n",
    "        SELECT last_name\n",
    "        FROM employee\n",
    "        GROUP BY last_name\n",
    "        ORDER BY last_name;\n",
    "\"\"\").fetchall()"
   ]
  },
  {
   "cell_type": "code",
   "execution_count": 49,
   "id": "5b482bc2",
   "metadata": {},
   "outputs": [
    {
     "data": {
      "text/plain": [
       "[('Chase',),\n",
       " ('Giles',),\n",
       " ('Harris',),\n",
       " ('Jenkins',),\n",
       " ('Rosenberg',),\n",
       " ('Summers',)]"
      ]
     },
     "execution_count": 49,
     "metadata": {},
     "output_type": "execute_result"
    }
   ],
   "source": [
    "# Return the distinct values in the `last_name` field\n",
    "cursor.execute(\"\"\"\n",
    "        SELECT DISTINCT last_name\n",
    "        FROM employee\n",
    "        ORDER BY last_name;\n",
    "\"\"\").fetchall()"
   ]
  },
  {
   "cell_type": "markdown",
   "id": "c67056e4",
   "metadata": {},
   "source": [
    "`GROUP BY` is often most helpful when used with aggregate functions, so you will see more helpful examples a little later on."
   ]
  },
  {
   "cell_type": "markdown",
   "id": "07aba469",
   "metadata": {},
   "source": [
    "# WHERE Clause\n",
    "\n",
    "Often you will find it is not very helpful to return all of the data from a table. Instead, what you're looking for is data that fits certain parameters, or meets certain conditions. We can do this with SQL by adding a `WHERE` clause to our query.\n",
    "\n",
    "A `WHERE` clause is used to filter our results for rows that only meet our specific criteria. It will go through each row in our table and check if the condition evaluates to `true`, and if so, it returns the row in our result set. If it is `false`, the row is not included. \n",
    "- Always follows the `FROM` clause\n",
    "- Search is case sensitive\n",
    "- Enclose text in single or double quotes\n",
    "\n",
    "```\n",
    "SELECT column1, column2, …\n",
    "FROM table_name\n",
    "WHERE condition;\n",
    "```"
   ]
  },
  {
   "cell_type": "code",
   "execution_count": 50,
   "id": "277df0e7",
   "metadata": {},
   "outputs": [
    {
     "data": {
      "text/plain": [
       "[(5, 'Buffy', 'Summers', 'Security Specialist', 240000, '1'),\n",
       " (6, 'Buffy', 'Summers', 'Security Specialist', 240000, '1')]"
      ]
     },
     "execution_count": 50,
     "metadata": {},
     "output_type": "execute_result"
    }
   ],
   "source": [
    "cursor.execute(\"\"\"\n",
    "        SELECT *\n",
    "        FROM employee\n",
    "        WHERE first_name = 'Buffy';\n",
    "\"\"\").fetchall()"
   ]
  },
  {
   "cell_type": "markdown",
   "id": "2a46cbc1",
   "metadata": {},
   "source": [
    "# Operators\n",
    "\n",
    "In the previous search we used the equals (`=`) operator but there are several other operators available to help us filter our result set. For example, here we are using the \"greater than\" operator (`>`) to filter our results to only rows with a `salary` value greater than $200,000."
   ]
  },
  {
   "cell_type": "code",
   "execution_count": 51,
   "id": "04f169cb",
   "metadata": {},
   "outputs": [
    {
     "data": {
      "text/plain": [
       "[(1, 'Rupert', 'Giles', 'CEO', 425000, '1'),\n",
       " (2, 'Willow', 'Rosenberg', 'Data Scientist', 350000, '1'),\n",
       " (3, 'Anya', 'Jenkins', 'CFO', 380000, '1'),\n",
       " (5, 'Buffy', 'Summers', 'Security Specialist', 240000, '1'),\n",
       " (6, 'Buffy', 'Summers', 'Security Specialist', 240000, '1')]"
      ]
     },
     "execution_count": 51,
     "metadata": {},
     "output_type": "execute_result"
    }
   ],
   "source": [
    "cursor.execute(\"\"\"\n",
    "        SELECT *\n",
    "        FROM employee\n",
    "        WHERE salary > 200000;\n",
    "\"\"\").fetchall()"
   ]
  },
  {
   "cell_type": "markdown",
   "id": "96e23904",
   "metadata": {},
   "source": [
    "Another one we can use is the \"not equal too\" (`!=`) operator. "
   ]
  },
  {
   "cell_type": "code",
   "execution_count": 52,
   "id": "dd9b0a3d",
   "metadata": {},
   "outputs": [
    {
     "data": {
      "text/plain": [
       "[(1, 'Rupert', 'Giles', 'CEO', 425000, '1'),\n",
       " (2, 'Willow', 'Rosenberg', 'Data Scientist', 350000, '1'),\n",
       " (3, 'Anya', 'Jenkins', 'CFO', 380000, '1'),\n",
       " (4, 'Xander', 'Harris', 'Building Manager', 120500, '0'),\n",
       " (7, 'Cordelia', 'Chase', 'Receptionist', 72000, '0'),\n",
       " (8, 'Cordelia', 'Chase', 'Receptionist', 70000, '0')]"
      ]
     },
     "execution_count": 52,
     "metadata": {},
     "output_type": "execute_result"
    }
   ],
   "source": [
    "cursor.execute(\"\"\"\n",
    "        SELECT *\n",
    "        FROM employee\n",
    "        WHERE salary != 240000;\n",
    "\"\"\").fetchall()"
   ]
  },
  {
   "cell_type": "markdown",
   "id": "8a126e05",
   "metadata": {},
   "source": [
    "## AND\n",
    "\n",
    "A `WHERE` clause may contain one or more conditions, separated by the operators `AND` and `OR`. \n",
    "\n",
    "If multiple conditions are separated by the `AND` operator, then all of the conditions must evaluate to `true` for the row to be included in the result set. "
   ]
  },
  {
   "cell_type": "code",
   "execution_count": 53,
   "id": "956aad33",
   "metadata": {},
   "outputs": [
    {
     "data": {
      "text/plain": [
       "[(5, 'Buffy', 'Summers', 'Security Specialist', 240000, '1'),\n",
       " (6, 'Buffy', 'Summers', 'Security Specialist', 240000, '1')]"
      ]
     },
     "execution_count": 53,
     "metadata": {},
     "output_type": "execute_result"
    }
   ],
   "source": [
    "cursor.execute(\"\"\"\n",
    "        SELECT *\n",
    "        FROM employee\n",
    "        WHERE salary = 240000 AND manager = 1;\n",
    "\"\"\").fetchall()"
   ]
  },
  {
   "cell_type": "markdown",
   "id": "8ac69689",
   "metadata": {},
   "source": [
    "Another operator we can use is `!=`. Here, we'll start by just filtering out rows where `salary` is equal to `240000`."
   ]
  },
  {
   "cell_type": "code",
   "execution_count": 54,
   "id": "a473b53f",
   "metadata": {
    "scrolled": true
   },
   "outputs": [
    {
     "data": {
      "text/html": [
       "<div>\n",
       "<style scoped>\n",
       "    .dataframe tbody tr th:only-of-type {\n",
       "        vertical-align: middle;\n",
       "    }\n",
       "\n",
       "    .dataframe tbody tr th {\n",
       "        vertical-align: top;\n",
       "    }\n",
       "\n",
       "    .dataframe thead th {\n",
       "        text-align: right;\n",
       "    }\n",
       "</style>\n",
       "<table border=\"1\" class=\"dataframe\">\n",
       "  <thead>\n",
       "    <tr style=\"text-align: right;\">\n",
       "      <th></th>\n",
       "      <th>first_name</th>\n",
       "      <th>last_name</th>\n",
       "      <th>salary</th>\n",
       "      <th>manager</th>\n",
       "    </tr>\n",
       "  </thead>\n",
       "  <tbody>\n",
       "    <tr>\n",
       "      <th>0</th>\n",
       "      <td>Rupert</td>\n",
       "      <td>Giles</td>\n",
       "      <td>425000</td>\n",
       "      <td>1</td>\n",
       "    </tr>\n",
       "    <tr>\n",
       "      <th>1</th>\n",
       "      <td>Willow</td>\n",
       "      <td>Rosenberg</td>\n",
       "      <td>350000</td>\n",
       "      <td>1</td>\n",
       "    </tr>\n",
       "    <tr>\n",
       "      <th>2</th>\n",
       "      <td>Anya</td>\n",
       "      <td>Jenkins</td>\n",
       "      <td>380000</td>\n",
       "      <td>1</td>\n",
       "    </tr>\n",
       "    <tr>\n",
       "      <th>3</th>\n",
       "      <td>Xander</td>\n",
       "      <td>Harris</td>\n",
       "      <td>120500</td>\n",
       "      <td>0</td>\n",
       "    </tr>\n",
       "    <tr>\n",
       "      <th>4</th>\n",
       "      <td>Cordelia</td>\n",
       "      <td>Chase</td>\n",
       "      <td>72000</td>\n",
       "      <td>0</td>\n",
       "    </tr>\n",
       "    <tr>\n",
       "      <th>5</th>\n",
       "      <td>Cordelia</td>\n",
       "      <td>Chase</td>\n",
       "      <td>70000</td>\n",
       "      <td>0</td>\n",
       "    </tr>\n",
       "  </tbody>\n",
       "</table>\n",
       "</div>"
      ],
      "text/plain": [
       "  first_name  last_name  salary manager\n",
       "0     Rupert      Giles  425000       1\n",
       "1     Willow  Rosenberg  350000       1\n",
       "2       Anya    Jenkins  380000       1\n",
       "3     Xander     Harris  120500       0\n",
       "4   Cordelia      Chase   72000       0\n",
       "5   Cordelia      Chase   70000       0"
      ]
     },
     "execution_count": 54,
     "metadata": {},
     "output_type": "execute_result"
    }
   ],
   "source": [
    "pd.read_sql(\"\"\"\n",
    "        SELECT first_name, last_name, salary, manager\n",
    "        FROM employee\n",
    "        WHERE salary != 240000;\n",
    "\"\"\", conn)"
   ]
  },
  {
   "cell_type": "markdown",
   "id": "993bfb1d",
   "metadata": {},
   "source": [
    "Next, we can filter our results even further by adding `AND` since both clauses must evaluate to `true` in order to be returned."
   ]
  },
  {
   "cell_type": "code",
   "execution_count": 55,
   "id": "1192ae9d",
   "metadata": {},
   "outputs": [
    {
     "data": {
      "text/html": [
       "<div>\n",
       "<style scoped>\n",
       "    .dataframe tbody tr th:only-of-type {\n",
       "        vertical-align: middle;\n",
       "    }\n",
       "\n",
       "    .dataframe tbody tr th {\n",
       "        vertical-align: top;\n",
       "    }\n",
       "\n",
       "    .dataframe thead th {\n",
       "        text-align: right;\n",
       "    }\n",
       "</style>\n",
       "<table border=\"1\" class=\"dataframe\">\n",
       "  <thead>\n",
       "    <tr style=\"text-align: right;\">\n",
       "      <th></th>\n",
       "      <th>first_name</th>\n",
       "      <th>last_name</th>\n",
       "      <th>salary</th>\n",
       "      <th>manager</th>\n",
       "    </tr>\n",
       "  </thead>\n",
       "  <tbody>\n",
       "    <tr>\n",
       "      <th>0</th>\n",
       "      <td>Rupert</td>\n",
       "      <td>Giles</td>\n",
       "      <td>425000</td>\n",
       "      <td>1</td>\n",
       "    </tr>\n",
       "    <tr>\n",
       "      <th>1</th>\n",
       "      <td>Willow</td>\n",
       "      <td>Rosenberg</td>\n",
       "      <td>350000</td>\n",
       "      <td>1</td>\n",
       "    </tr>\n",
       "    <tr>\n",
       "      <th>2</th>\n",
       "      <td>Anya</td>\n",
       "      <td>Jenkins</td>\n",
       "      <td>380000</td>\n",
       "      <td>1</td>\n",
       "    </tr>\n",
       "  </tbody>\n",
       "</table>\n",
       "</div>"
      ],
      "text/plain": [
       "  first_name  last_name  salary manager\n",
       "0     Rupert      Giles  425000       1\n",
       "1     Willow  Rosenberg  350000       1\n",
       "2       Anya    Jenkins  380000       1"
      ]
     },
     "execution_count": 55,
     "metadata": {},
     "output_type": "execute_result"
    }
   ],
   "source": [
    "pd.read_sql(\"\"\"\n",
    "        SELECT first_name, last_name, salary, manager\n",
    "        FROM employee\n",
    "        WHERE salary != 240000 AND manager = 1;\n",
    "\"\"\", conn)"
   ]
  },
  {
   "cell_type": "markdown",
   "id": "a2ed933f",
   "metadata": {},
   "source": [
    "## OR\n",
    "\n",
    "If a `WHERE` clause contains an `OR` operator, then only one of the conditions must evaluate to `true` for the row to be included in the result set."
   ]
  },
  {
   "cell_type": "code",
   "execution_count": 56,
   "id": "a3123ee3",
   "metadata": {},
   "outputs": [
    {
     "data": {
      "text/plain": [
       "[(1, 'Rupert', 'Giles', 'CEO', 425000, '1'),\n",
       " (2, 'Willow', 'Rosenberg', 'Data Scientist', 350000, '1'),\n",
       " (3, 'Anya', 'Jenkins', 'CFO', 380000, '1'),\n",
       " (4, 'Xander', 'Harris', 'Building Manager', 120500, '0'),\n",
       " (5, 'Buffy', 'Summers', 'Security Specialist', 240000, '1'),\n",
       " (6, 'Buffy', 'Summers', 'Security Specialist', 240000, '1'),\n",
       " (7, 'Cordelia', 'Chase', 'Receptionist', 72000, '0'),\n",
       " (8, 'Cordelia', 'Chase', 'Receptionist', 70000, '0')]"
      ]
     },
     "execution_count": 56,
     "metadata": {},
     "output_type": "execute_result"
    }
   ],
   "source": [
    "cursor.execute(\"\"\"\n",
    "        SELECT *\n",
    "        FROM employee\n",
    "        WHERE salary != 240000 OR manager = 1;\n",
    "\"\"\").fetchall()"
   ]
  },
  {
   "cell_type": "markdown",
   "id": "378a71cf",
   "metadata": {},
   "source": [
    "## IN \n",
    "\n",
    "The `IN` operator is used in a `WHERE` clause to determine if the specified value matches any of the possible values. \n",
    "\n",
    "```\n",
    "SELECT column1, column2,...\n",
    "FROM table_name\n",
    "WHERE (expr|column_1) IN ('value1', 'value2',...);\n",
    "```"
   ]
  },
  {
   "cell_type": "code",
   "execution_count": 57,
   "id": "e41318af",
   "metadata": {},
   "outputs": [
    {
     "data": {
      "text/plain": [
       "[(1, 'Rupert', 'Giles', 'CEO', 425000, '1'),\n",
       " (3, 'Anya', 'Jenkins', 'CFO', 380000, '1')]"
      ]
     },
     "execution_count": 57,
     "metadata": {},
     "output_type": "execute_result"
    }
   ],
   "source": [
    "cursor.execute(\"\"\"\n",
    "        SELECT *\n",
    "        FROM employee\n",
    "        WHERE title IN ('CEO', 'CFO');\n",
    "\"\"\").fetchall()"
   ]
  },
  {
   "cell_type": "markdown",
   "id": "c1b8ad9c",
   "metadata": {},
   "source": [
    "## NOT IN \n",
    "\n",
    "You can combine the `IN` and `NOT` operators to test whether the value does not match any of the possible options."
   ]
  },
  {
   "cell_type": "code",
   "execution_count": 58,
   "id": "3092146d",
   "metadata": {},
   "outputs": [
    {
     "data": {
      "text/plain": [
       "[(2, 'Willow', 'Rosenberg', 'Data Scientist', 350000, '1'),\n",
       " (4, 'Xander', 'Harris', 'Building Manager', 120500, '0'),\n",
       " (5, 'Buffy', 'Summers', 'Security Specialist', 240000, '1'),\n",
       " (6, 'Buffy', 'Summers', 'Security Specialist', 240000, '1'),\n",
       " (7, 'Cordelia', 'Chase', 'Receptionist', 72000, '0'),\n",
       " (8, 'Cordelia', 'Chase', 'Receptionist', 70000, '0')]"
      ]
     },
     "execution_count": 58,
     "metadata": {},
     "output_type": "execute_result"
    }
   ],
   "source": [
    "cursor.execute(\"\"\"\n",
    "        SELECT *\n",
    "        FROM employee\n",
    "        WHERE title NOT IN ('CEO', 'CFO');\n",
    "\"\"\").fetchall()"
   ]
  },
  {
   "cell_type": "markdown",
   "id": "ac3ce686",
   "metadata": {},
   "source": [
    "## BETWEEN\n",
    "\n",
    "`BETWEEN` is a logical operator that allows us to test whether a column value falls within a particular range.\n",
    "\n",
    "In the following query, it returns `true` if the value of the expression is greater than or equal to (`>=`) the value of the starting value and less than or equal to (`<=`) the value of the second value."
   ]
  },
  {
   "cell_type": "code",
   "execution_count": 59,
   "id": "e9845d37",
   "metadata": {},
   "outputs": [
    {
     "data": {
      "text/plain": [
       "[(4, 'Xander', 'Harris', 'Building Manager', 120500, '0'),\n",
       " (5, 'Buffy', 'Summers', 'Security Specialist', 240000, '1'),\n",
       " (6, 'Buffy', 'Summers', 'Security Specialist', 240000, '1')]"
      ]
     },
     "execution_count": 59,
     "metadata": {},
     "output_type": "execute_result"
    }
   ],
   "source": [
    "cursor.execute(\"\"\"\n",
    "        SELECT *\n",
    "        FROM employee\n",
    "        WHERE salary BETWEEN 100000 AND 240000;\n",
    "\"\"\").fetchall()"
   ]
  },
  {
   "cell_type": "markdown",
   "id": "5cc911a4",
   "metadata": {},
   "source": [
    "## NOT BETWEEN\n",
    "\n",
    "The `NOT BETWEEN` operator returns rows for when the value is less than (`<`) the value of the starting expression or greater than (`>`) the value of ending expression."
   ]
  },
  {
   "cell_type": "code",
   "execution_count": 60,
   "id": "d334c2ed",
   "metadata": {},
   "outputs": [
    {
     "data": {
      "text/plain": [
       "[(1, 'Rupert', 'Giles', 'CEO', 425000, '1'),\n",
       " (3, 'Anya', 'Jenkins', 'CFO', 380000, '1'),\n",
       " (4, 'Xander', 'Harris', 'Building Manager', 120500, '0'),\n",
       " (7, 'Cordelia', 'Chase', 'Receptionist', 72000, '0'),\n",
       " (8, 'Cordelia', 'Chase', 'Receptionist', 70000, '0')]"
      ]
     },
     "execution_count": 60,
     "metadata": {},
     "output_type": "execute_result"
    }
   ],
   "source": [
    "cursor.execute(\"\"\"\n",
    "        SELECT *\n",
    "        FROM employee\n",
    "        WHERE salary NOT BETWEEN 240000 AND 350000;\n",
    "\"\"\").fetchall()"
   ]
  },
  {
   "cell_type": "markdown",
   "id": "da9ba98b",
   "metadata": {},
   "source": [
    "# Wildcards\n",
    "\n",
    "Sometimes you may find that you only know part of the information that you need. In these case, it may be helpful to use wildcards to query our data. Wildcards are special symbols that represent unknown characters and they are used with the `LIKE` operator. The `LIKE` operator is used in the `WHERE` clauses to filter our results based on patterns.\n",
    "\n",
    "The most commonly used wildcard is the `%`, which when placed in a query string matches any string of zero or more characters. It is not case sensitive. For example, `'Ca%a'` matches `Canada` and `california`."
   ]
  },
  {
   "cell_type": "code",
   "execution_count": 61,
   "id": "f92b9bb9",
   "metadata": {},
   "outputs": [
    {
     "data": {
      "text/plain": [
       "[(1, 'Rupert', 'Giles', 'CEO', 425000, '1'),\n",
       " (3, 'Anya', 'Jenkins', 'CFO', 380000, '1')]"
      ]
     },
     "execution_count": 61,
     "metadata": {},
     "output_type": "execute_result"
    }
   ],
   "source": [
    "cursor.execute(\"\"\"\n",
    "        SELECT *\n",
    "        FROM employee\n",
    "        WHERE title LIKE 'c%';\n",
    "\"\"\").fetchall()"
   ]
  },
  {
   "cell_type": "code",
   "execution_count": 62,
   "id": "008e5990",
   "metadata": {},
   "outputs": [
    {
     "data": {
      "text/plain": [
       "[('Building Manager',),\n",
       " ('CEO',),\n",
       " ('CFO',),\n",
       " ('Data Scientist',),\n",
       " ('Receptionist',),\n",
       " ('Security Specialist',)]"
      ]
     },
     "execution_count": 62,
     "metadata": {},
     "output_type": "execute_result"
    }
   ],
   "source": [
    "# Print the unique `title` values\n",
    "cursor.execute(\"\"\"\n",
    "        SELECT DISTINCT title\n",
    "        FROM employee\n",
    "        ORDER BY title;\n",
    "\"\"\").fetchall()"
   ]
  },
  {
   "cell_type": "markdown",
   "id": "fe0208e1",
   "metadata": {},
   "source": [
    "The underscore (`_`) wildcard is used to match any single character. "
   ]
  },
  {
   "cell_type": "code",
   "execution_count": 63,
   "id": "6b24b40a",
   "metadata": {},
   "outputs": [
    {
     "data": {
      "text/plain": [
       "[(3, 'Anya', 'Jenkins', 'CFO', 380000, '1')]"
      ]
     },
     "execution_count": 63,
     "metadata": {},
     "output_type": "execute_result"
    }
   ],
   "source": [
    "cursor.execute(\"\"\"\n",
    "        SELECT *\n",
    "        FROM employee\n",
    "        WHERE title LIKE 'cf_';\n",
    "\"\"\").fetchall()"
   ]
  },
  {
   "cell_type": "markdown",
   "id": "31a7729e",
   "metadata": {},
   "source": [
    "**NOT LIKE**"
   ]
  },
  {
   "cell_type": "code",
   "execution_count": 64,
   "id": "b8b38817",
   "metadata": {},
   "outputs": [
    {
     "data": {
      "text/plain": [
       "[(2, 'Willow', 'Rosenberg', 'Data Scientist', 350000, '1'),\n",
       " (4, 'Xander', 'Harris', 'Building Manager', 120500, '0'),\n",
       " (5, 'Buffy', 'Summers', 'Security Specialist', 240000, '1'),\n",
       " (6, 'Buffy', 'Summers', 'Security Specialist', 240000, '1'),\n",
       " (7, 'Cordelia', 'Chase', 'Receptionist', 72000, '0'),\n",
       " (8, 'Cordelia', 'Chase', 'Receptionist', 70000, '0')]"
      ]
     },
     "execution_count": 64,
     "metadata": {},
     "output_type": "execute_result"
    }
   ],
   "source": [
    "cursor.execute(\"\"\"\n",
    "        SELECT *\n",
    "        FROM employee\n",
    "        WHERE title NOT LIKE 'c%';\n",
    "\"\"\").fetchall()"
   ]
  },
  {
   "cell_type": "markdown",
   "id": "b09b83ee",
   "metadata": {},
   "source": [
    "# IS NULL Operator\n",
    "\n",
    "`NULL` is special value since it indicates that a piece of information is unknown and two unknown values cannot be comparable or equal. This is why the following syntax is not correct:\n",
    "\n",
    "```\n",
    "SELECT *\n",
    "FROM table\n",
    "WHERE column = NULL;\n",
    "```\n",
    "\n",
    "Instead, to test whether a value is `NULL` or not, we can use the `IS NULL` operator. If the value is `NULL`, the expression returns `true` and returns the row. Otherwise, it returns `false` and is not included. Since our example table isn't missing any `'title'` values, there are no rows in our results table."
   ]
  },
  {
   "cell_type": "code",
   "execution_count": 65,
   "id": "49c9ba93",
   "metadata": {},
   "outputs": [
    {
     "data": {
      "text/plain": [
       "[]"
      ]
     },
     "execution_count": 65,
     "metadata": {},
     "output_type": "execute_result"
    }
   ],
   "source": [
    "cursor.execute(\"\"\"\n",
    "        SELECT *\n",
    "        FROM employee\n",
    "        WHERE title IS NULL;\n",
    "\"\"\").fetchall()"
   ]
  },
  {
   "cell_type": "markdown",
   "id": "096ffa36",
   "metadata": {},
   "source": [
    "**IS NOT NULL Operator**\n",
    "\n",
    "To only return rows where the value is not missing, or not `NULL`, we can use the `IS NOT NULL` operator."
   ]
  },
  {
   "cell_type": "code",
   "execution_count": 66,
   "id": "aedf5a2b",
   "metadata": {},
   "outputs": [
    {
     "data": {
      "text/plain": [
       "[(1, 'Rupert', 'Giles', 'CEO', 425000, '1'),\n",
       " (2, 'Willow', 'Rosenberg', 'Data Scientist', 350000, '1'),\n",
       " (3, 'Anya', 'Jenkins', 'CFO', 380000, '1'),\n",
       " (4, 'Xander', 'Harris', 'Building Manager', 120500, '0'),\n",
       " (5, 'Buffy', 'Summers', 'Security Specialist', 240000, '1'),\n",
       " (6, 'Buffy', 'Summers', 'Security Specialist', 240000, '1'),\n",
       " (7, 'Cordelia', 'Chase', 'Receptionist', 72000, '0'),\n",
       " (8, 'Cordelia', 'Chase', 'Receptionist', 70000, '0')]"
      ]
     },
     "execution_count": 66,
     "metadata": {},
     "output_type": "execute_result"
    }
   ],
   "source": [
    "cursor.execute(\"\"\"\n",
    "        SELECT *\n",
    "        FROM employee\n",
    "        WHERE title IS NOT NULL;\n",
    "\"\"\").fetchall()"
   ]
  },
  {
   "cell_type": "markdown",
   "id": "16b55484",
   "metadata": {},
   "source": [
    "# Arithmetic Operators\n",
    "\n",
    "So far, our queries have just been returning the raw data. However, SQLite also lets use several arithmetic operators: multiplication (`*`), division (`/`), addition (`+`), subtraction (`-`), and modulo (`%`)."
   ]
  },
  {
   "cell_type": "code",
   "execution_count": 67,
   "id": "117bc43c",
   "metadata": {},
   "outputs": [
    {
     "data": {
      "text/plain": [
       "[(4,)]"
      ]
     },
     "execution_count": 67,
     "metadata": {},
     "output_type": "execute_result"
    }
   ],
   "source": [
    "# Integer divison\n",
    "cursor.execute(\"\"\"\n",
    "        SELECT 9 / 2;\n",
    "\"\"\").fetchall()"
   ]
  },
  {
   "cell_type": "code",
   "execution_count": 68,
   "id": "6dab02e3",
   "metadata": {},
   "outputs": [
    {
     "data": {
      "text/plain": [
       "[(4.5,)]"
      ]
     },
     "execution_count": 68,
     "metadata": {},
     "output_type": "execute_result"
    }
   ],
   "source": [
    "# To return a floating point value, only one value must be floating point numbers\n",
    "cursor.execute(\"\"\"\n",
    "        SELECT 9 / 2.0;\n",
    "\"\"\").fetchall()"
   ]
  },
  {
   "cell_type": "code",
   "execution_count": 69,
   "id": "86e581eb",
   "metadata": {},
   "outputs": [
    {
     "data": {
      "text/plain": [
       "[(None,)]"
      ]
     },
     "execution_count": 69,
     "metadata": {},
     "output_type": "execute_result"
    }
   ],
   "source": [
    "# Division by zero is not allowed, so the expression returns NULL\n",
    "cursor.execute(\"\"\"\n",
    "        SELECT 9 / 0;\n",
    "\"\"\").fetchall()"
   ]
  },
  {
   "cell_type": "markdown",
   "id": "79d21e8d",
   "metadata": {},
   "source": [
    "The modulo `%` operator finds the remainder of division of one number by another. For example, the following query returns 2 since 3 goes into 11 three times with a remainder of 2."
   ]
  },
  {
   "cell_type": "code",
   "execution_count": 70,
   "id": "80117f88",
   "metadata": {},
   "outputs": [
    {
     "data": {
      "text/plain": [
       "[(2,)]"
      ]
     },
     "execution_count": 70,
     "metadata": {},
     "output_type": "execute_result"
    }
   ],
   "source": [
    "# The % operator is called the modulo operator. It finds the remainder of division of one number by another. \n",
    "cursor.execute(\"\"\"\n",
    "        SELECT 11 % 3;\n",
    "\"\"\").fetchall()"
   ]
  },
  {
   "cell_type": "markdown",
   "id": "5f3819c0",
   "metadata": {},
   "source": [
    "We can also apply these operators to every value in a particular column like you see here."
   ]
  },
  {
   "cell_type": "code",
   "execution_count": 71,
   "id": "7ca488a2",
   "metadata": {},
   "outputs": [
    {
     "data": {
      "text/plain": [
       "[('Rupert', 'Giles', 850000),\n",
       " ('Willow', 'Rosenberg', 700000),\n",
       " ('Anya', 'Jenkins', 760000),\n",
       " ('Xander', 'Harris', 241000),\n",
       " ('Buffy', 'Summers', 480000),\n",
       " ('Buffy', 'Summers', 480000),\n",
       " ('Cordelia', 'Chase', 144000),\n",
       " ('Cordelia', 'Chase', 140000)]"
      ]
     },
     "execution_count": 71,
     "metadata": {},
     "output_type": "execute_result"
    }
   ],
   "source": [
    "cursor.execute(\"\"\"\n",
    "        SELECT first_name, last_name, (salary * 2) \n",
    "        FROM employee;\n",
    "\"\"\").fetchall()"
   ]
  },
  {
   "cell_type": "markdown",
   "id": "7fc6f5a2",
   "metadata": {},
   "source": [
    "# Functions\n",
    "\n",
    "SQLite offers many different types of functions. I will cover some of the most commonly used ones here, but if you are interested in learning, please refer to this helpful guide: [SQLite Functions](https://www.sqlitetutorial.net/sqlite-functions/)\n",
    "\n",
    "\n",
    "## COUNT\n",
    "\n",
    "The `COUNT` function is especially helpful to quickly see how many rows are in your table."
   ]
  },
  {
   "cell_type": "code",
   "execution_count": 72,
   "id": "99b27efa",
   "metadata": {},
   "outputs": [
    {
     "data": {
      "text/plain": [
       "[(8,)]"
      ]
     },
     "execution_count": 72,
     "metadata": {},
     "output_type": "execute_result"
    }
   ],
   "source": [
    "cursor.execute(\"\"\"\n",
    "        SELECT COUNT(*) \n",
    "        FROM employee;\n",
    "\"\"\").fetchall()"
   ]
  },
  {
   "cell_type": "markdown",
   "id": "379451a7",
   "metadata": {},
   "source": [
    "We can also apply aggregate functions, such as `SUM`, `MIN`, `MAX`, and `AVG`, to our columns."
   ]
  },
  {
   "cell_type": "code",
   "execution_count": 73,
   "id": "48f922cb",
   "metadata": {},
   "outputs": [
    {
     "data": {
      "text/plain": [
       "[(1897500,)]"
      ]
     },
     "execution_count": 73,
     "metadata": {},
     "output_type": "execute_result"
    }
   ],
   "source": [
    "# Find the total employee salary\n",
    "cursor.execute(\"\"\"\n",
    "        SELECT SUM(salary)\n",
    "        FROM employee;\n",
    "\"\"\").fetchall()"
   ]
  },
  {
   "cell_type": "code",
   "execution_count": 74,
   "id": "06124edd",
   "metadata": {},
   "outputs": [
    {
     "data": {
      "text/plain": [
       "[(70000,)]"
      ]
     },
     "execution_count": 74,
     "metadata": {},
     "output_type": "execute_result"
    }
   ],
   "source": [
    "# Find the minimum employee salary\n",
    "cursor.execute(\"\"\"\n",
    "        SELECT MIN(salary)\n",
    "        FROM employee;\n",
    "\"\"\").fetchall()"
   ]
  },
  {
   "cell_type": "markdown",
   "id": "09962b59",
   "metadata": {},
   "source": [
    "# Aliases"
   ]
  },
  {
   "cell_type": "code",
   "execution_count": 75,
   "id": "311f84c6",
   "metadata": {},
   "outputs": [
    {
     "data": {
      "text/html": [
       "<div>\n",
       "<style scoped>\n",
       "    .dataframe tbody tr th:only-of-type {\n",
       "        vertical-align: middle;\n",
       "    }\n",
       "\n",
       "    .dataframe tbody tr th {\n",
       "        vertical-align: top;\n",
       "    }\n",
       "\n",
       "    .dataframe thead th {\n",
       "        text-align: right;\n",
       "    }\n",
       "</style>\n",
       "<table border=\"1\" class=\"dataframe\">\n",
       "  <thead>\n",
       "    <tr style=\"text-align: right;\">\n",
       "      <th></th>\n",
       "      <th>Row Count</th>\n",
       "    </tr>\n",
       "  </thead>\n",
       "  <tbody>\n",
       "    <tr>\n",
       "      <th>0</th>\n",
       "      <td>8</td>\n",
       "    </tr>\n",
       "  </tbody>\n",
       "</table>\n",
       "</div>"
      ],
      "text/plain": [
       "   Row Count\n",
       "0          8"
      ]
     },
     "execution_count": 75,
     "metadata": {},
     "output_type": "execute_result"
    }
   ],
   "source": [
    "# Use an alias to change the column name\n",
    "df = pd.read_sql(\"\"\"\n",
    "        SELECT COUNT(*) AS 'Row Count'\n",
    "        FROM employee;\"\"\", conn)\n",
    "\n",
    "# Print the query results\n",
    "df"
   ]
  },
  {
   "cell_type": "markdown",
   "id": "ceef64a4",
   "metadata": {},
   "source": [
    "# Commit Changes\n",
    "\n",
    "If you have performed any operation on the database, other than sending queries, it is important to commit those changes once you are finished using the connection object's the `commit()` method.\n",
    "\n",
    "## Total Changes\n",
    "\n",
    "To first see how many changes you made to your database, you can use the connection object's `total_changes` attribute."
   ]
  },
  {
   "cell_type": "code",
   "execution_count": 76,
   "id": "78a4dbe8",
   "metadata": {},
   "outputs": [
    {
     "data": {
      "text/plain": [
       "37"
      ]
     },
     "execution_count": 76,
     "metadata": {},
     "output_type": "execute_result"
    }
   ],
   "source": [
    "# Total number of database rows that were changed\n",
    "conn.total_changes"
   ]
  },
  {
   "cell_type": "markdown",
   "id": "f4980a8e",
   "metadata": {},
   "source": [
    "You can commit your changes by using the connection object's `commit()` method."
   ]
  },
  {
   "cell_type": "code",
   "execution_count": 77,
   "id": "72c2980d",
   "metadata": {},
   "outputs": [],
   "source": [
    "# Commit any changes\n",
    "conn.commit()"
   ]
  },
  {
   "cell_type": "markdown",
   "id": "0aa93d47",
   "metadata": {},
   "source": [
    "# Close the Connection\n",
    "\n",
    "After committing your changes, you need to close the connection to the database."
   ]
  },
  {
   "cell_type": "code",
   "execution_count": 78,
   "id": "51e845d2",
   "metadata": {},
   "outputs": [],
   "source": [
    "# Close the database connection\n",
    "conn.close()"
   ]
  }
 ],
 "metadata": {
  "kernelspec": {
   "display_name": "Python 3 (ipykernel)",
   "language": "python",
   "name": "python3"
  },
  "language_info": {
   "codemirror_mode": {
    "name": "ipython",
    "version": 3
   },
   "file_extension": ".py",
   "mimetype": "text/x-python",
   "name": "python",
   "nbconvert_exporter": "python",
   "pygments_lexer": "ipython3",
   "version": "3.9.13"
  },
  "toc": {
   "base_numbering": 1,
   "nav_menu": {},
   "number_sections": true,
   "sideBar": true,
   "skip_h1_title": false,
   "title_cell": "Table of Contents",
   "title_sidebar": "Contents",
   "toc_cell": false,
   "toc_position": {
    "height": "calc(100% - 180px)",
    "left": "10px",
    "top": "150px",
    "width": "186px"
   },
   "toc_section_display": true,
   "toc_window_display": true
  }
 },
 "nbformat": 4,
 "nbformat_minor": 5
}
