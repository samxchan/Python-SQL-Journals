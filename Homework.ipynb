{
 "cells": [
  {
   "cell_type": "code",
   "execution_count": 30,
   "id": "4054e844-c976-41b6-97f3-d0fd7a79981e",
   "metadata": {},
   "outputs": [],
   "source": [
    "import pandas as pd\n",
    "import random\n",
    "import numpy as np\n",
    "import datetime\n",
    "\n",
    "def create_datasets():\n",
    "    # Create a list of 50 names\n",
    "    names = ['John', 'Jane', 'Jim', 'Joan', 'Jake', 'Jill', 'Jerry', 'Jessica', 'Jordan', 'Justin'] * 10\n",
    "    last_name = ['Gray', 'Jones', 'Richards', 'Vargas', 'Hendrix', 'Moore', 'Nichols', 'Wharton', 'Cox', 'Zaldin'] * 10\n",
    "    # Create a list of 50 random ages\n",
    "    ages = [random.randint(20, 40) for i in range(100)]\n",
    "\n",
    "    # Create a list of 50 random dates\n",
    "    dates = [datetime.datetime.now().date() - datetime.timedelta(days=random.randint(1, 365)) for i in range(100)]\n",
    "\n",
    "    # Create a list of 50 random scores\n",
    "    scores = [random.uniform(50, 100) for i in range(100)]\n",
    "\n",
    "    # Combine the lists into a dictionary\n",
    "    data = {'Name': names, 'Age': ages, 'Date': dates, 'Score': scores, 'Last_name': last_name}\n",
    "\n",
    "    # Convert the dictionary to a Pandas dataframe\n",
    "    df = pd.DataFrame(data)\n",
    "\n",
    "    # Add missing data to the dataframe\n",
    "    df['Name'] = df['Name'].apply(lambda x: np.nan if random.random() < 0.1 else x)\n",
    "    df['Age'] = df['Age'].apply(lambda x: np.nan if random.random() < 0.1 else x)\n",
    "    df['Date'] = df['Date'].apply(lambda x: np.nan if random.random() < 0.1 else x)\n",
    "    df['Score'] = df['Score'].apply(lambda x: np.nan if random.random() < 0.1 else x)\n",
    "    df['Last_name'] = df['Last_name'].apply(lambda x: np.nan if random.random() < 0.1 else x)\n",
    "    \n",
    "    # Add duplicate rows to the dataframe\n",
    "    #df = pd.concat([df] * 2, ignore_index=True)\n",
    "    df = pd.concat([df.sample(random.randint(1, 50)), df], ignore_index=True)\n",
    "    return df\n",
    "\n",
    "\n",
    "\n",
    "df1 = create_datasets()\n",
    "df2 = create_datasets()\n",
    "\n",
    "df1.to_csv('test_scores_1982.csv', index=False)\n",
    "df2.to_csv('test_scores_2001.csv', index=False)"
   ]
  },
  {
   "cell_type": "markdown",
   "id": "ca1b5936-7164-47ec-9765-ff1f340acb6a",
   "metadata": {},
   "source": [
    "# Problem 1\n",
    "\n",
    "1. Read both CSV files into a pandas dataframes and extract some basic information about the data.\n",
    "\n",
    "2. Clean and pre-process the data by handling missing values, converting data types, and removing duplicates.\n",
    "\n",
    "3. Group the data by one or more columns and calculate the mean, sum, count, and other statistics for each group.\n",
    "\n",
    "4. Merge two or more dataframes based on a common column and apply various join operations (inner join, outer join, left join, right join).\n",
    "\n",
    "5. Filter the data based on conditions and extract rows that meet specific criteria. (make up any condition)\n",
    "\n",
    "6. Save the data to a file in various formats such as CSV and Excel."
   ]
  },
  {
   "cell_type": "markdown",
   "id": "1caaf11b-6474-485f-9795-f9dee4c2c2db",
   "metadata": {},
   "source": [
    "# Problem 2\n",
    "\n",
    "   A. Import test_scores_1982.csv\n",
    "   \n",
    "   B. Convert the 'Date' column to a datetime type. \n",
    "   \n",
    "   C. Set the 'Date' column as the index. \n",
    "   \n",
    "   D. Group scores by Weekly frequency"
   ]
  },
  {
   "cell_type": "markdown",
   "id": "fccc8d82-5d7e-40a4-b843-043a6c1be55f",
   "metadata": {},
   "source": [
    "   \n",
    "# Problem 3 \n",
    "    A. Import test_scores_2001.csv\n",
    "    \n",
    "    B. Convert the 'Date' column to a datetime type.\n",
    "    \n",
    "    C. Return rows with Dates between 7/1/2022 and 12/1/2022"
   ]
  },
  {
   "cell_type": "markdown",
   "id": "7168ada9-fe21-4cd9-a690-de2bfbd98c8a",
   "metadata": {},
   "source": [
    "# Problem 4\n",
    " \n",
    "    A. Import test_scores_2001.csv\n",
    "    \n",
    "    B. Convert the 'Date' column to a datetime type. \n",
    "    \n",
    "    C. Set the 'Date' column as the index. \n",
    "    \n",
    "    D. Use loc to retrieve all rows from 2023"
   ]
  },
  {
   "cell_type": "markdown",
   "id": "c915b217-b40a-44da-89e8-49159d20de86",
   "metadata": {},
   "source": [
    "# Problem 5\n",
    "1. Import test_scores_2001.csv\n",
    "2. Perform the following tasks using Pandas operations\n",
    "    1. Rename the column 'Age' to 'Number'.\n",
    "    2. Drop the columns 'Last_name' and 'Number'\n",
    "    3. Replace all NaN values with 0\n",
    "    4. Group the data by 'Name' and calculate the mean of each group.\n",
    "    5. Merge the grouped data with the original data on the 'Name' column.\n",
    "    6. Sort the merged data by the 'Score' column in ascending order.\n",
    "3. save the result to a new CSV file named \"result.csv\""
   ]
  }
 ],
 "metadata": {
  "kernelspec": {
   "display_name": "Python 3 (ipykernel)",
   "language": "python",
   "name": "python3"
  },
  "language_info": {
   "codemirror_mode": {
    "name": "ipython",
    "version": 3
   },
   "file_extension": ".py",
   "mimetype": "text/x-python",
   "name": "python",
   "nbconvert_exporter": "python",
   "pygments_lexer": "ipython3",
   "version": "3.10.4"
  }
 },
 "nbformat": 4,
 "nbformat_minor": 5
}
